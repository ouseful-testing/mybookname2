{
 "cells": [
  {
   "cell_type": "markdown",
   "metadata": {},
   "source": [
    "# 4.1 Week 4 glossary"
   ]
  },
  {
   "cell_type": "markdown",
   "metadata": {},
   "source": [
    "Here is an alphabetical list of the terms introduced this week, for quick look-up.\n",
    "\n",
    "---"
   ]
  },
  {
   "cell_type": "markdown",
   "metadata": {},
   "source": [
    "### Programming and data analysis concepts\n",
    "\n",
    "The __bitwise operators__"
   ]
  },
  {
   "cell_type": "code",
   "execution_count": null,
   "metadata": {},
   "outputs": [],
   "source": [
    "__&amp;__"
   ]
  },
  {
   "cell_type": "markdown",
   "metadata": {},
   "source": [
    " (and) and "
   ]
  },
  {
   "cell_type": "code",
   "execution_count": null,
   "metadata": {},
   "outputs": [],
   "source": [
    "__|__"
   ]
  },
  {
   "cell_type": "markdown",
   "metadata": {},
   "source": [
    " (or) are used in pandas to build more complicated expressions from two comparison expressions (typically involving column comparisons).\n",
    "\n",
    "A __Boolean__ has one of two possible values: "
   ]
  },
  {
   "cell_type": "code",
   "execution_count": null,
   "metadata": {},
   "outputs": [],
   "source": [
    "__True__"
   ]
  },
  {
   "cell_type": "markdown",
   "metadata": {},
   "source": [
    " or "
   ]
  },
  {
   "cell_type": "code",
   "execution_count": null,
   "metadata": {},
   "outputs": [],
   "source": [
    "__False__"
   ]
  },
  {
   "cell_type": "markdown",
   "metadata": {},
   "source": [
    ".\n",
    "\n",
    "A __Comma Separated Values (CSV)__ file is a plain text file that is used to hold tabular data.\n",
    "\n",
    "A __list__ is a sequence of values, separated by commas, and written within square brackets.\n",
    "\n",
    "There are six __comparison operators__ that can be used to compare number, string and date values. Expressions composed of these operators evaluate to "
   ]
  },
  {
   "cell_type": "code",
   "execution_count": null,
   "metadata": {},
   "outputs": [],
   "source": [
    "__True__"
   ]
  },
  {
   "cell_type": "markdown",
   "metadata": {},
   "source": [
    " or "
   ]
  },
  {
   "cell_type": "code",
   "execution_count": null,
   "metadata": {},
   "outputs": [],
   "source": [
    "__False__"
   ]
  },
  {
   "cell_type": "markdown",
   "metadata": {},
   "source": [
    ". These operators can also be used to compare every value in a column, row by row, against some number, string or date value. When used in this manner the operators return a series of Boolean values.\n",
    "\n",
    "The __‘dot’ notation__ is used to access a dataframe’s methods and attributes.\n",
    "\n",
    "The "
   ]
  },
  {
   "cell_type": "code",
   "execution_count": null,
   "metadata": {},
   "outputs": [],
   "source": [
    "__Series__"
   ]
  },
  {
   "cell_type": "markdown",
   "metadata": {},
   "source": [
    " data type is a collection of values with an integer index that starts from zero. Each column in a dataframe is an example of the "
   ]
  },
  {
   "cell_type": "code",
   "execution_count": null,
   "metadata": {},
   "outputs": [],
   "source": [
    "__Series__"
   ]
  },
  {
   "cell_type": "markdown",
   "metadata": {},
   "source": [
    " data type. The "
   ]
  },
  {
   "cell_type": "code",
   "execution_count": null,
   "metadata": {},
   "outputs": [],
   "source": [
    "__Series__"
   ]
  },
  {
   "cell_type": "markdown",
   "metadata": {},
   "source": [
    " data type has many of the same methods as the "
   ]
  },
  {
   "cell_type": "code",
   "execution_count": null,
   "metadata": {},
   "outputs": [],
   "source": [
    "__DataFrame__"
   ]
  },
  {
   "cell_type": "markdown",
   "metadata": {},
   "source": [
    " data type.\n",
    "\n",
    "The "
   ]
  },
  {
   "cell_type": "code",
   "execution_count": null,
   "metadata": {},
   "outputs": [],
   "source": [
    "__object__"
   ]
  },
  {
   "cell_type": "markdown",
   "metadata": {},
   "source": [
    " data type is how pandas represents strings.\n",
    "\n",
    "The "
   ]
  },
  {
   "cell_type": "code",
   "execution_count": null,
   "metadata": {},
   "outputs": [],
   "source": [
    "__datetime64__"
   ]
  },
  {
   "cell_type": "markdown",
   "metadata": {},
   "source": [
    " data type is how pandas represents dates.\n",
    "\n",
    "The "
   ]
  },
  {
   "cell_type": "code",
   "execution_count": null,
   "metadata": {},
   "outputs": [],
   "source": [
    "__int64__"
   ]
  },
  {
   "cell_type": "markdown",
   "metadata": {},
   "source": [
    " data type is how pandas represents integers (whole numbers).\n",
    "\n",
    "The "
   ]
  },
  {
   "cell_type": "code",
   "execution_count": null,
   "metadata": {},
   "outputs": [],
   "source": [
    "__float64__"
   ]
  },
  {
   "cell_type": "markdown",
   "metadata": {},
   "source": [
    " data type is how pandas represents floating point numbers (decimals).\n",
    "\n",
    "---\n",
    "\n",
    "---"
   ]
  },
  {
   "cell_type": "markdown",
   "metadata": {},
   "source": [
    "### Functions and methods\n",
    "\n"
   ]
  },
  {
   "cell_type": "code",
   "execution_count": null,
   "metadata": {},
   "outputs": [],
   "source": [
    "__asType(aType)__"
   ]
  },
  {
   "cell_type": "markdown",
   "metadata": {},
   "source": [
    " when applied to a dataframe column, the method changes the data type of each value in that column to the type given by the string "
   ]
  },
  {
   "cell_type": "code",
   "execution_count": null,
   "metadata": {},
   "outputs": [],
   "source": [
    "__aType__"
   ]
  },
  {
   "cell_type": "markdown",
   "metadata": {},
   "source": [
    ".\n",
    "\n"
   ]
  },
  {
   "cell_type": "code",
   "execution_count": null,
   "metadata": {},
   "outputs": [],
   "source": [
    "__datetime(yyyy, mm, dd)__"
   ]
  },
  {
   "cell_type": "markdown",
   "metadata": {},
   "source": [
    " the function takes three arguments, "
   ]
  },
  {
   "cell_type": "code",
   "execution_count": null,
   "metadata": {},
   "outputs": [],
   "source": [
    "__yyyy__"
   ]
  },
  {
   "cell_type": "markdown",
   "metadata": {},
   "source": [
    " a four digit integer representing a year, "
   ]
  },
  {
   "cell_type": "code",
   "execution_count": null,
   "metadata": {},
   "outputs": [],
   "source": [
    "__mm__"
   ]
  },
  {
   "cell_type": "markdown",
   "metadata": {},
   "source": [
    " a two digit integer representing a month and "
   ]
  },
  {
   "cell_type": "code",
   "execution_count": null,
   "metadata": {},
   "outputs": [],
   "source": [
    "__dd__"
   ]
  },
  {
   "cell_type": "markdown",
   "metadata": {},
   "source": [
    " a two digit integer representing a day. From these arguments the function creates and returns a value of "
   ]
  },
  {
   "cell_type": "code",
   "execution_count": null,
   "metadata": {},
   "outputs": [],
   "source": [
    "__datetime64__"
   ]
  },
  {
   "cell_type": "markdown",
   "metadata": {},
   "source": [
    ".\n",
    "\n"
   ]
  },
  {
   "cell_type": "code",
   "execution_count": null,
   "metadata": {},
   "outputs": [],
   "source": [
    "__dropna()__"
   ]
  },
  {
   "cell_type": "markdown",
   "metadata": {},
   "source": [
    " when applied to a dataframe returns a new dataframe without the rows that have at least one missing value.\n",
    "\n"
   ]
  },
  {
   "cell_type": "code",
   "execution_count": null,
   "metadata": {},
   "outputs": [],
   "source": [
    "__head()__"
   ]
  },
  {
   "cell_type": "markdown",
   "metadata": {},
   "source": [
    " gets and displays the first five rows of a dataframe. Optionally the method can take an integer argument to specify how many rows (from and including row 0) to get and display.\n",
    "\n"
   ]
  },
  {
   "cell_type": "code",
   "execution_count": null,
   "metadata": {},
   "outputs": [],
   "source": [
    "__iloc[index]__"
   ]
  },
  {
   "cell_type": "markdown",
   "metadata": {},
   "source": [
    " gets and displays the row in the dataframe indicated by the integer argument "
   ]
  },
  {
   "cell_type": "code",
   "execution_count": null,
   "metadata": {},
   "outputs": [],
   "source": [
    "__index__"
   ]
  },
  {
   "cell_type": "markdown",
   "metadata": {},
   "source": [
    ".\n",
    "\n"
   ]
  },
  {
   "cell_type": "code",
   "execution_count": null,
   "metadata": {},
   "outputs": [],
   "source": [
    "__isnull()__"
   ]
  },
  {
   "cell_type": "markdown",
   "metadata": {},
   "source": [
    " is a series method that checks which rows in that series have a missing value.\n",
    "\n"
   ]
  },
  {
   "cell_type": "code",
   "execution_count": null,
   "metadata": {},
   "outputs": [],
   "source": [
    "__fillna(value)__"
   ]
  },
  {
   "cell_type": "markdown",
   "metadata": {},
   "source": [
    " is a series method that returns a new series in which all missing values have been filled with the given value.\n",
    "\n"
   ]
  },
  {
   "cell_type": "code",
   "execution_count": null,
   "metadata": {},
   "outputs": [],
   "source": [
    "__plot()__"
   ]
  },
  {
   "cell_type": "markdown",
   "metadata": {},
   "source": [
    " when applied to a dataframe column of numeric values, the method displays a graph of those values. The x-axis shows the dataframe’s index and the y-axis the range of the column’s values. Before the method is called you first need to execute "
   ]
  },
  {
   "cell_type": "code",
   "execution_count": null,
   "metadata": {},
   "outputs": [],
   "source": [
    "__%matplotlib inline__"
   ]
  },
  {
   "cell_type": "markdown",
   "metadata": {},
   "source": [
    ".\n",
    "\n"
   ]
  },
  {
   "cell_type": "code",
   "execution_count": null,
   "metadata": {},
   "outputs": [],
   "source": [
    "__read_csv(csvFile)__"
   ]
  },
  {
   "cell_type": "markdown",
   "metadata": {},
   "source": [
    " creates a dataframe from the dataset in the CSV file.\n",
    "\n"
   ]
  },
  {
   "cell_type": "code",
   "execution_count": null,
   "metadata": {},
   "outputs": [],
   "source": [
    "__rename(columns={oldName : newName})__"
   ]
  },
  {
   "cell_type": "markdown",
   "metadata": {},
   "source": [
    " renames the column "
   ]
  },
  {
   "cell_type": "code",
   "execution_count": null,
   "metadata": {},
   "outputs": [],
   "source": [
    "__oldName__"
   ]
  },
  {
   "cell_type": "markdown",
   "metadata": {},
   "source": [
    " to "
   ]
  },
  {
   "cell_type": "code",
   "execution_count": null,
   "metadata": {},
   "outputs": [],
   "source": [
    "__newName__"
   ]
  },
  {
   "cell_type": "markdown",
   "metadata": {},
   "source": [
    ".\n",
    "\n"
   ]
  },
  {
   "cell_type": "code",
   "execution_count": null,
   "metadata": {},
   "outputs": [],
   "source": [
    "__str.rstrip(suffix)__"
   ]
  },
  {
   "cell_type": "markdown",
   "metadata": {},
   "source": [
    " when applied to a dataframe column of string values, the method removes the argument "
   ]
  },
  {
   "cell_type": "code",
   "execution_count": null,
   "metadata": {},
   "outputs": [],
   "source": [
    "__suffix__"
   ]
  },
  {
   "cell_type": "markdown",
   "metadata": {},
   "source": [
    " from the end of each string value in the column.\n",
    "\n"
   ]
  },
  {
   "cell_type": "code",
   "execution_count": null,
   "metadata": {},
   "outputs": [],
   "source": [
    "__tail()__"
   ]
  },
  {
   "cell_type": "markdown",
   "metadata": {},
   "source": [
    " gets and displays the last five rows of a dataframe. Optionally the method can take an integer argument to specify how many rows (until and including the last row) to get and display.\n",
    "\n"
   ]
  },
  {
   "cell_type": "code",
   "execution_count": null,
   "metadata": {},
   "outputs": [],
   "source": [
    "__to_datetime(aSeries)__"
   ]
  },
  {
   "cell_type": "markdown",
   "metadata": {},
   "source": [
    " when applied to a series, typically a column from a dataframe, this function returns a new series in which each value in "
   ]
  },
  {
   "cell_type": "code",
   "execution_count": null,
   "metadata": {},
   "outputs": [],
   "source": [
    "__aSeries__"
   ]
  },
  {
   "cell_type": "markdown",
   "metadata": {},
   "source": [
    " has been changed to type "
   ]
  },
  {
   "cell_type": "code",
   "execution_count": null,
   "metadata": {},
   "outputs": [],
   "source": [
    "__datetime64__"
   ]
  },
  {
   "cell_type": "markdown",
   "metadata": {},
   "source": [
    ".\n",
    "\n",
    "---\n"
   ]
  }
 ],
 "metadata": {
  "jupytext": {
   "cell_metadata_filter": "-all",
   "main_language": "python",
   "notebook_metadata_filter": "-all"
  },
  "kernelspec": {
   "display_name": "",
   "language": "",
   "name": ""
  }
 },
 "nbformat": 4,
 "nbformat_minor": 2
}
