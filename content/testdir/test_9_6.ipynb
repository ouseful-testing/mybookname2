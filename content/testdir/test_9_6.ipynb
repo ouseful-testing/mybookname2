{
 "cells": [
  {
   "cell_type": "markdown",
   "metadata": {},
   "source": [
    "# 4 Summary\n"
   ]
  },
  {
   "cell_type": "markdown",
   "metadata": {},
   "source": [
    "![](https://www.open.edu/openlearn/ocw/pluginfile.php/1393338/mod_oucontent/oucontent/71687/ou_futurelearn_learn_to_code_fig_1076_3d.jpg)\n",
    "__Figure 7__\n",
    "\n",
    "An image of python code on a computer screen.\n",
    "This week you used Jupyter notebooks to write and execute simple programs with Python and the pandas module. You've learned how to:\n",
    "* load a table from an Excel fileload a table from an Excel file\n",
    "* select a column, and compute some simple statistics (like the total, minimum and median) about it.select a column, and compute some simple statistics (like the total, minimum and median) about it. \n",
    "* create a new column with values calculated from other columnscreate a new column with values calculated from other columns\n",
    "* sort a table by one of its columns.sort a table by one of its columns.\n",
    "\n",
    "Next week you will learn further ways to manipulate dataframes, in particular to clean data. You will also produce your first data chart, showing variations of values over time.\n",
    "\n",
    "---"
   ]
  },
  {
   "cell_type": "markdown",
   "metadata": {},
   "source": [
    "### Futher reading\n",
    "[WHO population – data by country (2013)](http://apps.who.int/gho/data/node.main.POP107?lang=en)[ WHO mortality and prevalence – data by country (2007 – present) ](http://apps.who.int/gho/data/node.country)\n",
    "---"
   ]
  },
  {
   "cell_type": "markdown",
   "metadata": {},
   "source": [
    "## 4.1 Week 1 and 2 glossary"
   ]
  },
  {
   "cell_type": "markdown",
   "metadata": {},
   "source": [
    "Here are alphabetical lists, for quick look up, of what this week introduced.\n",
    "\n",
    "---"
   ]
  },
  {
   "cell_type": "markdown",
   "metadata": {},
   "source": [
    "### Programming and data analysis concepts\n",
    "\n",
    "An __assignment__ is a statement of the form "
   ]
  },
  {
   "cell_type": "code",
   "execution_count": null,
   "metadata": {},
   "outputs": [],
   "source": [
    "__variable = expression__"
   ]
  },
  {
   "cell_type": "markdown",
   "metadata": {},
   "source": [
    " . It evaluates the expression and stores its value in the variable. The variable is created if it doesn’t exist. Each assignment is written on its own line.\n",
    "\n",
    "__CamelCase__ is a naming style in which names made of various words have each word capitalized, except possibly the first.\n",
    "\n",
    "A __comment__ is a note about the code. It starts with the hash sign (#) and goes until the end of the line.\n",
    "\n",
    "A __dataframe__ is the pandas representation of a table.\n",
    "\n",
    "An __expression__ is a fragment of code that can be __evaluated__ , i.e. that has a value, like a variable name.\n",
    "\n",
    "A __file not found__ error occurs if the computer can’t find the given file, e.g. because the name is misspelled or because it’s in another folder.\n",
    "\n",
    "A __function__ takes zero or more __arguments__ (values) and __returns__ (produces) a value.\n",
    "\n",
    "A __function call__ is an expression of the form "
   ]
  },
  {
   "cell_type": "code",
   "execution_count": null,
   "metadata": {
    "lines_to_next_cell": 0
   },
   "outputs": [],
   "source": [
    "__functionName(argument1, argument2, …).__"
   ]
  },
  {
   "cell_type": "markdown",
   "metadata": {},
   "source": []
  },
  {
   "cell_type": "markdown",
   "metadata": {},
   "source": [
    "An __import statement__ of the form "
   ]
  },
  {
   "cell_type": "code",
   "execution_count": null,
   "metadata": {},
   "outputs": [],
   "source": [
    "__from module import__"
   ]
  },
  {
   "cell_type": "markdown",
   "metadata": {},
   "source": [
    " * loads all the code from the given module.\n",
    "\n",
    "The __maximum__ and __minimum__ of a set of values is the largest and smallest value, respectively.\n",
    "\n",
    "The __mean__ of a set of numbers is the sum of those numbers divided by how many there are.\n",
    "\n",
    "The __median__ of a set of numbers is the number in the middle, i.e. half of the numbers are below the median and half are above.\n",
    "\n",
    "A __method__ is a function that can only be called in a certain context, like a dataframe or a column.\n",
    "\n",
    "A __method call__ is an expression of the form "
   ]
  },
  {
   "cell_type": "code",
   "execution_count": null,
   "metadata": {
    "lines_to_next_cell": 0
   },
   "outputs": [],
   "source": [
    "__context.methodName(argument1, argument2, ...).__"
   ]
  },
  {
   "cell_type": "markdown",
   "metadata": {},
   "source": []
  },
  {
   "cell_type": "markdown",
   "metadata": {},
   "source": [
    "A __module__ is a package of various pieces of code that can be used individually.\n",
    "\n",
    "A __name__ is a case-sensitive sequence of letters, digits and underscores. Names cannot start with a digit. Function, variable and module names usually start with lowercase.\n",
    "\n",
    "A __name error__ occurs if the computer doesn’t recognize a name, e.g. if it was misspelled.\n",
    "\n",
    "An __operator__ is a symbol that represents some operation on one or two expressions, e.g. the four basic arithmetic operators.\n",
    "\n",
    "The __range__ of a set of values is the difference between the maximum and the minimum.\n",
    "\n",
    "A __reserved__ word cannot be used as a name. Jupyter shows reserved words in green boldface.\n",
    "\n",
    "A __statement__ is a command for the computer to do something, e.g. to assign a value or to import some code.\n",
    "\n",
    "A __string__ is a verbatim piece of text, surrounded by quotes. Jupyter shows strings in red.\n",
    "\n",
    "A __syntax error__ occurs if the computer can’t understand the code because it is not in the expected form, e.g. if a reserved word is used instead of a name or some punctuation is missing.\n",
    "\n",
    "A __variable__ is a named storage for values.\n",
    "\n",
    "---\n",
    "\n",
    "---"
   ]
  },
  {
   "cell_type": "markdown",
   "metadata": {},
   "source": [
    "### Reserved words\n",
    "* "
   ]
  },
  {
   "cell_type": "code",
   "execution_count": null,
   "metadata": {
    "lines_to_next_cell": 2
   },
   "outputs": [],
   "source": [
    "__from__"
   ]
  },
  {
   "cell_type": "markdown",
   "metadata": {},
   "source": [
    "* "
   ]
  },
  {
   "cell_type": "code",
   "execution_count": null,
   "metadata": {
    "lines_to_next_cell": 0
   },
   "outputs": [],
   "source": [
    "__import__"
   ]
  },
  {
   "cell_type": "markdown",
   "metadata": {},
   "source": []
  },
  {
   "cell_type": "markdown",
   "metadata": {},
   "source": [
    "---\n",
    "\n",
    "---"
   ]
  },
  {
   "cell_type": "markdown",
   "metadata": {},
   "source": [
    "### Functions and methods\n",
    "\n"
   ]
  },
  {
   "cell_type": "code",
   "execution_count": null,
   "metadata": {},
   "outputs": [],
   "source": [
    "__max(value1, value2, …)__"
   ]
  },
  {
   "cell_type": "markdown",
   "metadata": {},
   "source": [
    " returns the maximum of the given values.\n",
    "\n"
   ]
  },
  {
   "cell_type": "code",
   "execution_count": null,
   "metadata": {},
   "outputs": [],
   "source": [
    "__column.max()__"
   ]
  },
  {
   "cell_type": "markdown",
   "metadata": {},
   "source": [
    " returns the maximum value in the column.\n",
    "\n"
   ]
  },
  {
   "cell_type": "code",
   "execution_count": null,
   "metadata": {},
   "outputs": [],
   "source": [
    "__min(value1, value2, …)__"
   ]
  },
  {
   "cell_type": "markdown",
   "metadata": {},
   "source": [
    " returns the minimum of the given values.\n",
    "\n"
   ]
  },
  {
   "cell_type": "code",
   "execution_count": null,
   "metadata": {},
   "outputs": [],
   "source": [
    "__column.min()__"
   ]
  },
  {
   "cell_type": "markdown",
   "metadata": {},
   "source": [
    " returns the minimum value in the column.\n",
    "\n"
   ]
  },
  {
   "cell_type": "code",
   "execution_count": null,
   "metadata": {},
   "outputs": [],
   "source": [
    "__column.mean()__"
   ]
  },
  {
   "cell_type": "markdown",
   "metadata": {},
   "source": [
    " returns the mean of the values in the column.\n",
    "\n"
   ]
  },
  {
   "cell_type": "code",
   "execution_count": null,
   "metadata": {},
   "outputs": [],
   "source": [
    "__column.median()__"
   ]
  },
  {
   "cell_type": "markdown",
   "metadata": {},
   "source": [
    " returns the median of the values in the column.\n",
    "\n"
   ]
  },
  {
   "cell_type": "code",
   "execution_count": null,
   "metadata": {},
   "outputs": [],
   "source": [
    "__column.sum()__"
   ]
  },
  {
   "cell_type": "markdown",
   "metadata": {},
   "source": [
    " returns the total of the values in the column.\n",
    "\n"
   ]
  },
  {
   "cell_type": "code",
   "execution_count": null,
   "metadata": {},
   "outputs": [],
   "source": [
    "__dataFrame.sort_values(columnName)__"
   ]
  },
  {
   "cell_type": "markdown",
   "metadata": {},
   "source": [
    " takes a string with a column’s name and returns a new dataframe, in which rows are sorted in ascending order according to the values in the given column.\n",
    "\n"
   ]
  },
  {
   "cell_type": "code",
   "execution_count": null,
   "metadata": {},
   "outputs": [],
   "source": [
    "__read_excel(fileName)__"
   ]
  },
  {
   "cell_type": "markdown",
   "metadata": {},
   "source": [
    " takes a string with an Excel file name, reads the file, and returns a dataframe representing the table in the file.\n",
    "\n",
    "---\n"
   ]
  }
 ],
 "metadata": {
  "jupytext": {
   "cell_metadata_filter": "-all",
   "main_language": "python",
   "notebook_metadata_filter": "-all"
  },
  "kernelspec": {
   "display_name": "",
   "language": "",
   "name": ""
  }
 },
 "nbformat": 4,
 "nbformat_minor": 2
}
