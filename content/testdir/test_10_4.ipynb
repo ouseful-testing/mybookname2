{
 "cells": [
  {
   "cell_type": "markdown",
   "metadata": {},
   "source": [
    "# 1 Weather data"
   ]
  },
  {
   "cell_type": "markdown",
   "metadata": {},
   "source": [
    "This week you will be looking at investigating historic weather data."
   ]
  },
  {
   "cell_type": "markdown",
   "metadata": {},
   "source": [
    "![](https://www.open.edu/openlearn/ocw/pluginfile.php/1393338/mod_oucontent/oucontent/71687/ou_futurelearn_learn_to_code_fig_1039.jpg)\n",
    "__Figure 1__\n",
    "\n",
    "An image of filter like diagonal strips across various skies such as an orange sunset, a storm and a clear blue sky\n",
    "Of course, such data is hugely important for research into the large-scale, long-term shift in our planet’s weather patterns and average temperatures – climate change. However, such data is also incredibly useful for more mundane planning purposes. To demonstrate the learning this week, I, Rob Griffiths, will be using historic weather data to try and plan a summer holiday in the UK. You’ll use the data too and get a chance to work on your own project at the end of the week.\n",
    "\n",
    "The dataset we’ll use to do this will come from the [Weather Underground](http://www.wunderground.com/), which creates weather forecasts from data sent to them by a worldwide network of over 100,000 weather enthusiasts who have personal weather stations on their house or in their garden.\n",
    "\n",
    "In addition to creating weather forecasts from that data, the Weather Underground also keeps that data as historic weather records allowing members of the public to download weather datasets for a particular time period and location. These datasets are downloaded as CSV files, explained in the next step.\n",
    "\n",
    "Datasets are rarely ‘clean’ and fit for purpose, so it will be necessary to clean up the data and ‘mould it’ for your purposes. You will then learn how to visualise data by creating graphs using the "
   ]
  },
  {
   "cell_type": "code",
   "execution_count": null,
   "metadata": {},
   "outputs": [],
   "source": [
    "__plot()__"
   ]
  },
  {
   "cell_type": "markdown",
   "metadata": {},
   "source": [
    " function."
   ]
  },
  {
   "cell_type": "markdown",
   "metadata": {},
   "source": [
    "## 1.1 What is a CSV file?"
   ]
  },
  {
   "cell_type": "markdown",
   "metadata": {},
   "source": [
    "A CSV file is a plain text file that is used to hold tabular data. The acronym CSV is short for ‘comma-separated values’."
   ]
  },
  {
   "cell_type": "markdown",
   "metadata": {},
   "source": [
    "![](https://www.open.edu/openlearn/ocw/pluginfile.php/1393338/mod_oucontent/oucontent/71687/ou_futurelearn_learn_to_code_fig_1036.jpg)\n",
    "__Figure 2__\n",
    "\n",
    "An image of many pins marking various countries on a globe\n",
    "Take a look at the first few lines of a CSV file that holds the same data as the Excel file ‘WHO POP TB all.xls’ that you encountered in Week 2:\n"
   ]
  },
  {
   "cell_type": "code",
   "execution_count": null,
   "metadata": {
    "lines_to_next_cell": 2
   },
   "outputs": [],
   "source": [
    "\n",
    "Country,Population (1000s),TB deaths\n",
    "Afghanistan,30552,13000.0\n",
    "Albania,3173,20.0\n",
    "Algeria,39208,5100.0\n",
    "Andorra,79,0.26 \n",
    "Angola,21472,6900.0\n",
    "Antigua and Barbuda,90,1.2\n",
    "Argentina,41446,570.0 \n",
    "Armenia,2977,170.0"
   ]
  },
  {
   "cell_type": "markdown",
   "metadata": {},
   "source": [
    "Notice that the first line is a row of column names. The subsequent lines are rows of actual data that correspond to the column names. The row of column names is optional, but it is helpful in understanding the data in the following lines and making sure the right values fall in the right place. In this example, the first value on every row must be a string representing a country’s name, the second value is an integer representing that country’s population (in 1000s) and the third value is a decimal representing the number of deaths due to TB. Note that the third value is a decimal (like 0.26 deaths for Andorra) and not an integer because it is an estimate obtained from statistical processing of collected data.\n",
    "\n",
    "Note that each value or column name is separated by a comma but actually any character can be used to separate values in a CSV file, including spaces and tabs etc., hence CSV can also stand for ‘character-separated values’.\n",
    "\n",
    "Because CSV files are in plain-text it makes the data easy to import into any spreadsheet program, database or pandas dataframe.\n",
    "\n",
    "Before anything can be done with a CSV file with pandas, the following import statement must be executed:\n",
    "\n"
   ]
  },
  {
   "cell_type": "code",
   "execution_count": null,
   "metadata": {
    "lines_to_next_cell": 0
   },
   "outputs": [],
   "source": [
    "__In []:__"
   ]
  },
  {
   "cell_type": "markdown",
   "metadata": {},
   "source": [
    "\n",
    "\n",
    "\n"
   ]
  },
  {
   "cell_type": "code",
   "execution_count": null,
   "metadata": {
    "lines_to_next_cell": 0
   },
   "outputs": [],
   "source": [
    "from pandas import *"
   ]
  },
  {
   "cell_type": "markdown",
   "metadata": {},
   "source": []
  },
  {
   "cell_type": "markdown",
   "metadata": {},
   "source": [
    "As you learned in Week 2, the import statement loads into memory all the code in the pandas module.\n",
    "\n",
    "To read a CSV file into a dataframe, the pandas function "
   ]
  },
  {
   "cell_type": "code",
   "execution_count": null,
   "metadata": {},
   "outputs": [],
   "source": [
    "__read_csv()__"
   ]
  },
  {
   "cell_type": "markdown",
   "metadata": {},
   "source": [
    " needs to be called.\n",
    "\n"
   ]
  },
  {
   "cell_type": "code",
   "execution_count": null,
   "metadata": {
    "lines_to_next_cell": 0
   },
   "outputs": [],
   "source": [
    "__In []:__"
   ]
  },
  {
   "cell_type": "markdown",
   "metadata": {},
   "source": [
    "\n",
    "\n",
    "\n"
   ]
  },
  {
   "cell_type": "code",
   "execution_count": null,
   "metadata": {
    "lines_to_next_cell": 0
   },
   "outputs": [],
   "source": [
    "df = read_csv('WHO POP TB all.csv')"
   ]
  },
  {
   "cell_type": "markdown",
   "metadata": {},
   "source": []
  },
  {
   "cell_type": "markdown",
   "metadata": {},
   "source": [
    "The above code creates a dataframe from the data in the file "
   ]
  },
  {
   "cell_type": "code",
   "execution_count": null,
   "metadata": {
    "lines_to_next_cell": 0
   },
   "outputs": [],
   "source": [
    "__WHO POP TB__"
   ]
  },
  {
   "cell_type": "markdown",
   "metadata": {},
   "source": [
    "\n"
   ]
  },
  {
   "cell_type": "code",
   "execution_count": null,
   "metadata": {},
   "outputs": [],
   "source": [
    "__all.csv__"
   ]
  },
  {
   "cell_type": "markdown",
   "metadata": {},
   "source": [
    " and assigns it to the variable "
   ]
  },
  {
   "cell_type": "code",
   "execution_count": null,
   "metadata": {},
   "outputs": [],
   "source": [
    "__df__"
   ]
  },
  {
   "cell_type": "markdown",
   "metadata": {},
   "source": [
    ". This is the simplest usage of the "
   ]
  },
  {
   "cell_type": "code",
   "execution_count": null,
   "metadata": {},
   "outputs": [],
   "source": [
    "__read_csv()__"
   ]
  },
  {
   "cell_type": "markdown",
   "metadata": {},
   "source": [
    " function, just using a single argument, a string that holds the name of the CSV file.\n",
    "\n",
    "However the function can take many additional arguments (some of which you’ll use later), which determine how the file is to be read.\n",
    "\n",
    "In the next step, find out about dataframes and the ‘dot’ notation."
   ]
  },
  {
   "cell_type": "markdown",
   "metadata": {},
   "source": [
    "## 1.2 Dataframes and the ‘dot’ notation"
   ]
  },
  {
   "cell_type": "markdown",
   "metadata": {},
   "source": [
    "In Week 2 you learned that dataframes have methods, which are like functions, that can only be called in the context of a dataframe.\n",
    "\n",
    "For example, because the TB deaths dataframe "
   ]
  },
  {
   "cell_type": "code",
   "execution_count": null,
   "metadata": {},
   "outputs": [],
   "source": [
    "__df __"
   ]
  },
  {
   "cell_type": "markdown",
   "metadata": {},
   "source": [
    "has a column named ‘Country’, the "
   ]
  },
  {
   "cell_type": "code",
   "execution_count": null,
   "metadata": {},
   "outputs": [],
   "source": [
    "__sort_values()__"
   ]
  },
  {
   "cell_type": "markdown",
   "metadata": {},
   "source": [
    " method can be called like this:\n",
    "\n"
   ]
  },
  {
   "cell_type": "code",
   "execution_count": null,
   "metadata": {
    "lines_to_next_cell": 0
   },
   "outputs": [],
   "source": [
    "__In []:__"
   ]
  },
  {
   "cell_type": "markdown",
   "metadata": {},
   "source": [
    "\n",
    "\n",
    "\n"
   ]
  },
  {
   "cell_type": "code",
   "execution_count": null,
   "metadata": {
    "lines_to_next_cell": 0
   },
   "outputs": [],
   "source": [
    "df.sort_values('Country')"
   ]
  },
  {
   "cell_type": "markdown",
   "metadata": {},
   "source": []
  },
  {
   "cell_type": "markdown",
   "metadata": {},
   "source": [
    "Because there is variable name, followed by a dot, followed by the method, this is called __dot notation__. Methods are said to be a property of a dataframe. In addition to methods, dataframes have another property – attributes."
   ]
  },
  {
   "cell_type": "markdown",
   "metadata": {},
   "source": [
    "![](https://www.open.edu/openlearn/ocw/pluginfile.php/1393338/mod_oucontent/oucontent/71687/ou_futurelearn_learn_to_code_fig_1040.jpg)\n",
    "__Figure 3__\n",
    "\n",
    "A multi-coloured image of many different sized circles. They could be described as bubbles\n",
    "---"
   ]
  },
  {
   "cell_type": "markdown",
   "metadata": {},
   "source": [
    "### Attributes\n",
    "\n",
    "A dataframe attribute is like a variable that can only be accessed in the context of a dataframe. One such attribute is "
   ]
  },
  {
   "cell_type": "code",
   "execution_count": null,
   "metadata": {},
   "outputs": [],
   "source": [
    "__columns __"
   ]
  },
  {
   "cell_type": "markdown",
   "metadata": {},
   "source": [
    "which holds a dataframe’s column names.\n",
    "\n",
    "So the expression "
   ]
  },
  {
   "cell_type": "code",
   "execution_count": null,
   "metadata": {},
   "outputs": [],
   "source": [
    "__df.columns__"
   ]
  },
  {
   "cell_type": "markdown",
   "metadata": {},
   "source": [
    " evaluates to the value of the "
   ]
  },
  {
   "cell_type": "code",
   "execution_count": null,
   "metadata": {},
   "outputs": [],
   "source": [
    "__columns __"
   ]
  },
  {
   "cell_type": "markdown",
   "metadata": {},
   "source": [
    "attribute inside the dataframe "
   ]
  },
  {
   "cell_type": "code",
   "execution_count": null,
   "metadata": {},
   "outputs": [],
   "source": [
    "__df__"
   ]
  },
  {
   "cell_type": "markdown",
   "metadata": {},
   "source": [
    ". The following code will get and display the names of the columns in the dataframe "
   ]
  },
  {
   "cell_type": "code",
   "execution_count": null,
   "metadata": {
    "lines_to_next_cell": 0
   },
   "outputs": [],
   "source": [
    "__df:__"
   ]
  },
  {
   "cell_type": "markdown",
   "metadata": {},
   "source": [
    "\n",
    "\n",
    "\n"
   ]
  },
  {
   "cell_type": "code",
   "execution_count": null,
   "metadata": {
    "lines_to_next_cell": 0
   },
   "outputs": [],
   "source": [
    "__In []:__"
   ]
  },
  {
   "cell_type": "markdown",
   "metadata": {},
   "source": [
    "\n",
    "\n",
    "\n"
   ]
  },
  {
   "cell_type": "code",
   "execution_count": null,
   "metadata": {
    "lines_to_next_cell": 0
   },
   "outputs": [],
   "source": [
    "df.columns"
   ]
  },
  {
   "cell_type": "markdown",
   "metadata": {},
   "source": [
    "\n",
    "\n",
    "\n"
   ]
  },
  {
   "cell_type": "code",
   "execution_count": null,
   "metadata": {
    "lines_to_next_cell": 0
   },
   "outputs": [],
   "source": [
    "__Out[]:__"
   ]
  },
  {
   "cell_type": "markdown",
   "metadata": {},
   "source": [
    "\n",
    "\n"
   ]
  },
  {
   "cell_type": "code",
   "execution_count": null,
   "metadata": {
    "lines_to_next_cell": 2
   },
   "outputs": [],
   "source": [
    "\n",
    "Index(['Country', 'Population (1000s)', 'TB deaths'],\n",
    "dtype='object')"
   ]
  },
  {
   "cell_type": "markdown",
   "metadata": {},
   "source": [
    "---"
   ]
  },
  {
   "cell_type": "markdown",
   "metadata": {},
   "source": [
    "## 1.3 Getting and displaying dataframe rows"
   ]
  },
  {
   "cell_type": "markdown",
   "metadata": {},
   "source": [
    "Dataframes can have hundreds or thousands of rows, so it is not practical to display a whole dataframe.\n",
    "\n",
    "However, there are a number of dataframe attributes and methods that allow you to get and display either a single row or a number of rows at a time. Three of the most useful methods are:"
   ]
  },
  {
   "cell_type": "code",
   "execution_count": null,
   "metadata": {},
   "outputs": [],
   "source": [
    "__ iloc()__"
   ]
  },
  {
   "cell_type": "markdown",
   "metadata": {},
   "source": [
    ", "
   ]
  },
  {
   "cell_type": "code",
   "execution_count": null,
   "metadata": {},
   "outputs": [],
   "source": [
    "__head()__"
   ]
  },
  {
   "cell_type": "markdown",
   "metadata": {},
   "source": [
    " and "
   ]
  },
  {
   "cell_type": "code",
   "execution_count": null,
   "metadata": {},
   "outputs": [],
   "source": [
    "__tail()__"
   ]
  },
  {
   "cell_type": "markdown",
   "metadata": {},
   "source": [
    ". Note that to distinguish methods and attributes, we write "
   ]
  },
  {
   "cell_type": "code",
   "execution_count": null,
   "metadata": {},
   "outputs": [],
   "source": [
    "()"
   ]
  },
  {
   "cell_type": "markdown",
   "metadata": {},
   "source": [
    " after a method’s name."
   ]
  },
  {
   "cell_type": "markdown",
   "metadata": {},
   "source": [
    "![](https://www.open.edu/openlearn/ocw/pluginfile.php/1393338/mod_oucontent/oucontent/71687/ou_futurelearn_learn_to_code_fig_1041.jpg)\n",
    "__Figure 4__\n",
    "\n",
    "An image of a data algorithm \n",
    "---"
   ]
  },
  {
   "cell_type": "markdown",
   "metadata": {},
   "source": [
    "### The iloc attribute\n",
    "\n",
    "A dataframe has a default integer index for its rows, which starts at 0 (zero). You can get and display any single row in a dataframe by using the"
   ]
  },
  {
   "cell_type": "code",
   "execution_count": null,
   "metadata": {},
   "outputs": [],
   "source": [
    "__iloc__"
   ]
  },
  {
   "cell_type": "markdown",
   "metadata": {},
   "source": [
    " attribute with the index of the row you want to access as its argument. For example, the following code will get and display the first row of data in the dataframe "
   ]
  },
  {
   "cell_type": "code",
   "execution_count": null,
   "metadata": {},
   "outputs": [],
   "source": [
    "__df__"
   ]
  },
  {
   "cell_type": "markdown",
   "metadata": {},
   "source": [
    ", which is at index 0:\n",
    "\n"
   ]
  },
  {
   "cell_type": "code",
   "execution_count": null,
   "metadata": {
    "lines_to_next_cell": 0
   },
   "outputs": [],
   "source": [
    "__In []:__"
   ]
  },
  {
   "cell_type": "markdown",
   "metadata": {},
   "source": [
    "\n",
    "\n",
    "\n"
   ]
  },
  {
   "cell_type": "code",
   "execution_count": null,
   "metadata": {
    "lines_to_next_cell": 0
   },
   "outputs": [],
   "source": [
    "df.iloc[0]"
   ]
  },
  {
   "cell_type": "markdown",
   "metadata": {},
   "source": [
    "\n",
    "\n",
    "\n"
   ]
  },
  {
   "cell_type": "code",
   "execution_count": null,
   "metadata": {
    "lines_to_next_cell": 0
   },
   "outputs": [],
   "source": [
    "__Out[]:__"
   ]
  },
  {
   "cell_type": "markdown",
   "metadata": {},
   "source": [
    "\n",
    "\n"
   ]
  },
  {
   "cell_type": "code",
   "execution_count": null,
   "metadata": {
    "lines_to_next_cell": 2
   },
   "outputs": [],
   "source": [
    "\n",
    "Country Afghanistan\n",
    "Population (1000s) 30552\n",
    "TB deaths 13000\n",
    "Name: 0, dtype: object"
   ]
  },
  {
   "cell_type": "markdown",
   "metadata": {},
   "source": [
    "Similarly, the following code will get and display the third row of data in the dataframe "
   ]
  },
  {
   "cell_type": "code",
   "execution_count": null,
   "metadata": {},
   "outputs": [],
   "source": [
    "__df__"
   ]
  },
  {
   "cell_type": "markdown",
   "metadata": {},
   "source": [
    ", which is at index 2:\n",
    "\n"
   ]
  },
  {
   "cell_type": "code",
   "execution_count": null,
   "metadata": {
    "lines_to_next_cell": 0
   },
   "outputs": [],
   "source": [
    "__In []:__"
   ]
  },
  {
   "cell_type": "markdown",
   "metadata": {},
   "source": [
    "\n",
    "\n",
    "\n"
   ]
  },
  {
   "cell_type": "code",
   "execution_count": null,
   "metadata": {
    "lines_to_next_cell": 0
   },
   "outputs": [],
   "source": [
    "df.iloc[2]"
   ]
  },
  {
   "cell_type": "markdown",
   "metadata": {},
   "source": [
    "\n",
    "\n",
    "\n"
   ]
  },
  {
   "cell_type": "code",
   "execution_count": null,
   "metadata": {
    "lines_to_next_cell": 0
   },
   "outputs": [],
   "source": [
    "__Out[]:__"
   ]
  },
  {
   "cell_type": "markdown",
   "metadata": {},
   "source": [
    "\n",
    "\n"
   ]
  },
  {
   "cell_type": "code",
   "execution_count": null,
   "metadata": {
    "lines_to_next_cell": 2
   },
   "outputs": [],
   "source": [
    "\n",
    "Country Algeria\n",
    "Population (1000s) 39208\n",
    "TB deaths 5100.0\n",
    "Name: 0, dtype: object"
   ]
  },
  {
   "cell_type": "markdown",
   "metadata": {},
   "source": [
    "---\n",
    "\n",
    "---"
   ]
  },
  {
   "cell_type": "markdown",
   "metadata": {},
   "source": [
    "### The head() method\n",
    "\n",
    "The first few rows of a dataframe can be printed out with the "
   ]
  },
  {
   "cell_type": "code",
   "execution_count": null,
   "metadata": {},
   "outputs": [],
   "source": [
    "__head()__"
   ]
  },
  {
   "cell_type": "markdown",
   "metadata": {},
   "source": [
    " method.\n",
    "\n",
    "You can tell "
   ]
  },
  {
   "cell_type": "code",
   "execution_count": null,
   "metadata": {},
   "outputs": [],
   "source": [
    "__head()__"
   ]
  },
  {
   "cell_type": "markdown",
   "metadata": {},
   "source": [
    " is a method, rather than an attribute such as "
   ]
  },
  {
   "cell_type": "code",
   "execution_count": null,
   "metadata": {},
   "outputs": [],
   "source": [
    "__columns__"
   ]
  },
  {
   "cell_type": "markdown",
   "metadata": {},
   "source": [
    ", because of the parentheses (round brackets) after the property name.\n",
    "\n",
    "If you don’t give any argument, i.e. don’t put any number within those parentheses, the default behaviour is to return the first five rows of the dataframe. If you give an argument, it will print that number of rows (starting from the row indexed by 0).\n",
    "\n",
    "For example, executing the following code will get and display the first five rows in the dataframe "
   ]
  },
  {
   "cell_type": "code",
   "execution_count": null,
   "metadata": {},
   "outputs": [],
   "source": [
    "__df__"
   ]
  },
  {
   "cell_type": "markdown",
   "metadata": {},
   "source": [
    ".\n",
    "\n"
   ]
  },
  {
   "cell_type": "code",
   "execution_count": null,
   "metadata": {
    "lines_to_next_cell": 0
   },
   "outputs": [],
   "source": [
    "__In []:__"
   ]
  },
  {
   "cell_type": "markdown",
   "metadata": {},
   "source": [
    "\n",
    "\n",
    "\n"
   ]
  },
  {
   "cell_type": "code",
   "execution_count": null,
   "metadata": {
    "lines_to_next_cell": 0
   },
   "outputs": [],
   "source": [
    "df.head()"
   ]
  },
  {
   "cell_type": "markdown",
   "metadata": {},
   "source": [
    "\n",
    "\n",
    "\n"
   ]
  },
  {
   "cell_type": "code",
   "execution_count": null,
   "metadata": {
    "lines_to_next_cell": 2
   },
   "outputs": [],
   "source": [
    "__Out[]:__"
   ]
  },
  {
   "cell_type": "markdown",
   "metadata": {},
   "source": [
    "<table xmlns:str=\"http://exslt.org/strings\">\n",
    "<caption></caption>\n",
    "<tbody>\n",
    "<tr>\n",
    "<th> </th>\n",
    "<th>Country</th>\n",
    "<th>Population (1000s)</th>\n",
    "<th>TB deaths</th>\n",
    "</tr>\n",
    "<tr>\n",
    "<td class=\"highlight_\" rowspan=\"\" colspan=\"\">0</td>\n",
    "<td class=\"highlight_\" rowspan=\"\" colspan=\"\">Afghanistan</td>\n",
    "<td class=\"highlight_\" rowspan=\"\" colspan=\"\">30552</td>\n",
    "<td class=\"highlight_\" rowspan=\"\" colspan=\"\">13000.00</td>\n",
    "</tr>\n",
    "<tr>\n",
    "<td class=\"highlight_\" rowspan=\"\" colspan=\"\">1</td>\n",
    "<td class=\"highlight_\" rowspan=\"\" colspan=\"\">Albania</td>\n",
    "<td class=\"highlight_\" rowspan=\"\" colspan=\"\">3173</td>\n",
    "<td class=\"highlight_\" rowspan=\"\" colspan=\"\">20.00</td>\n",
    "</tr>\n",
    "<tr>\n",
    "<td class=\"highlight_\" rowspan=\"\" colspan=\"\">2</td>\n",
    "<td class=\"highlight_\" rowspan=\"\" colspan=\"\">Algeria</td>\n",
    "<td class=\"highlight_\" rowspan=\"\" colspan=\"\">39208</td>\n",
    "<td class=\"highlight_\" rowspan=\"\" colspan=\"\">5100.00</td>\n",
    "</tr>\n",
    "<tr>\n",
    "<td class=\"highlight_\" rowspan=\"\" colspan=\"\">3</td>\n",
    "<td class=\"highlight_\" rowspan=\"\" colspan=\"\">Andorra</td>\n",
    "<td class=\"highlight_\" rowspan=\"\" colspan=\"\">79</td>\n",
    "<td class=\"highlight_\" rowspan=\"\" colspan=\"\">0.26</td>\n",
    "</tr>\n",
    "<tr>\n",
    "<td class=\"highlight_\" rowspan=\"\" colspan=\"\">4</td>\n",
    "<td class=\"highlight_\" rowspan=\"\" colspan=\"\">Angola</td>\n",
    "<td class=\"highlight_\" rowspan=\"\" colspan=\"\">21472</td>\n",
    "<td class=\"highlight_\" rowspan=\"\" colspan=\"\">6900.00</td>\n",
    "</tr>\n",
    "</tbody>\n",
    "</table>\n",
    "And, executing the following code will get and display the first seven rows in the dataframe "
   ]
  },
  {
   "cell_type": "code",
   "execution_count": null,
   "metadata": {
    "lines_to_next_cell": 0
   },
   "outputs": [],
   "source": [
    "__df.__"
   ]
  },
  {
   "cell_type": "markdown",
   "metadata": {},
   "source": [
    "\n",
    "\n",
    "\n"
   ]
  },
  {
   "cell_type": "code",
   "execution_count": null,
   "metadata": {
    "lines_to_next_cell": 0
   },
   "outputs": [],
   "source": [
    "__In []:__"
   ]
  },
  {
   "cell_type": "markdown",
   "metadata": {},
   "source": [
    "\n",
    "\n",
    "\n"
   ]
  },
  {
   "cell_type": "code",
   "execution_count": null,
   "metadata": {
    "lines_to_next_cell": 0
   },
   "outputs": [],
   "source": [
    "df.head(7)"
   ]
  },
  {
   "cell_type": "markdown",
   "metadata": {},
   "source": [
    "\n",
    "\n",
    "\n"
   ]
  },
  {
   "cell_type": "code",
   "execution_count": null,
   "metadata": {
    "lines_to_next_cell": 2
   },
   "outputs": [],
   "source": [
    "__Out[]:__"
   ]
  },
  {
   "cell_type": "markdown",
   "metadata": {},
   "source": [
    "<table xmlns:str=\"http://exslt.org/strings\">\n",
    "<caption></caption>\n",
    "<tbody>\n",
    "<tr>\n",
    "<th> </th>\n",
    "<th>Country</th>\n",
    "<th>Population (1000s)</th>\n",
    "<th>TB deaths</th>\n",
    "</tr>\n",
    "<tr>\n",
    "<td class=\"highlight_\" rowspan=\"\" colspan=\"\">0</td>\n",
    "<td class=\"highlight_\" rowspan=\"\" colspan=\"\">Afghanistan</td>\n",
    "<td class=\"highlight_\" rowspan=\"\" colspan=\"\">30552</td>\n",
    "<td class=\"highlight_\" rowspan=\"\" colspan=\"\">13000.00</td>\n",
    "</tr>\n",
    "<tr>\n",
    "<td class=\"highlight_\" rowspan=\"\" colspan=\"\">1</td>\n",
    "<td class=\"highlight_\" rowspan=\"\" colspan=\"\">Albania</td>\n",
    "<td class=\"highlight_\" rowspan=\"\" colspan=\"\">3173</td>\n",
    "<td class=\"highlight_\" rowspan=\"\" colspan=\"\">20.00</td>\n",
    "</tr>\n",
    "<tr>\n",
    "<td class=\"highlight_\" rowspan=\"\" colspan=\"\">2</td>\n",
    "<td class=\"highlight_\" rowspan=\"\" colspan=\"\">Algeria</td>\n",
    "<td class=\"highlight_\" rowspan=\"\" colspan=\"\">39208</td>\n",
    "<td class=\"highlight_\" rowspan=\"\" colspan=\"\">5100.00</td>\n",
    "</tr>\n",
    "<tr>\n",
    "<td class=\"highlight_\" rowspan=\"\" colspan=\"\">3</td>\n",
    "<td class=\"highlight_\" rowspan=\"\" colspan=\"\">Andorra</td>\n",
    "<td class=\"highlight_\" rowspan=\"\" colspan=\"\">79</td>\n",
    "<td class=\"highlight_\" rowspan=\"\" colspan=\"\">0.26</td>\n",
    "</tr>\n",
    "<tr>\n",
    "<td class=\"highlight_\" rowspan=\"\" colspan=\"\">4</td>\n",
    "<td class=\"highlight_\" rowspan=\"\" colspan=\"\">Angola</td>\n",
    "<td class=\"highlight_\" rowspan=\"\" colspan=\"\">21472</td>\n",
    "<td class=\"highlight_\" rowspan=\"\" colspan=\"\">6900.00</td>\n",
    "</tr>\n",
    "<tr>\n",
    "<td class=\"highlight_\" rowspan=\"\" colspan=\"\">5</td>\n",
    "<td class=\"highlight_\" rowspan=\"\" colspan=\"\">Antigua and Barbuda</td>\n",
    "<td class=\"highlight_\" rowspan=\"\" colspan=\"\">90</td>\n",
    "<td class=\"highlight_\" rowspan=\"\" colspan=\"\">1.20</td>\n",
    "</tr>\n",
    "<tr>\n",
    "<td class=\"highlight_\" rowspan=\"\" colspan=\"\">6</td>\n",
    "<td class=\"highlight_\" rowspan=\"\" colspan=\"\">Argentina</td>\n",
    "<td class=\"highlight_\" rowspan=\"\" colspan=\"\">41446</td>\n",
    "<td class=\"highlight_\" rowspan=\"\" colspan=\"\">570.00</td>\n",
    "</tr>\n",
    "</tbody>\n",
    "</table>\n",
    "---\n",
    "\n",
    "---"
   ]
  },
  {
   "cell_type": "markdown",
   "metadata": {},
   "source": [
    "### The tail() method\n",
    "\n",
    "The "
   ]
  },
  {
   "cell_type": "code",
   "execution_count": null,
   "metadata": {},
   "outputs": [],
   "source": [
    "__tail()__"
   ]
  },
  {
   "cell_type": "markdown",
   "metadata": {},
   "source": [
    " method is similar to the "
   ]
  },
  {
   "cell_type": "code",
   "execution_count": null,
   "metadata": {},
   "outputs": [],
   "source": [
    "__head()__"
   ]
  },
  {
   "cell_type": "markdown",
   "metadata": {},
   "source": [
    " method.\n",
    "\n",
    "If no argument is given, the last five rows of the dataframe are returned, otherwise the number of rows returned is dependent on the argument, just like for the "
   ]
  },
  {
   "cell_type": "code",
   "execution_count": null,
   "metadata": {},
   "outputs": [],
   "source": [
    "__head()__"
   ]
  },
  {
   "cell_type": "markdown",
   "metadata": {},
   "source": [
    " method.\n",
    "\n"
   ]
  },
  {
   "cell_type": "code",
   "execution_count": null,
   "metadata": {
    "lines_to_next_cell": 0
   },
   "outputs": [],
   "source": [
    "__In []:__"
   ]
  },
  {
   "cell_type": "markdown",
   "metadata": {},
   "source": [
    "\n",
    "\n",
    "\n"
   ]
  },
  {
   "cell_type": "code",
   "execution_count": null,
   "metadata": {
    "lines_to_next_cell": 0
   },
   "outputs": [],
   "source": [
    "df.tail()"
   ]
  },
  {
   "cell_type": "markdown",
   "metadata": {},
   "source": [
    "\n",
    "\n",
    "\n"
   ]
  },
  {
   "cell_type": "code",
   "execution_count": null,
   "metadata": {
    "lines_to_next_cell": 2
   },
   "outputs": [],
   "source": [
    "__Out[]:__"
   ]
  },
  {
   "cell_type": "markdown",
   "metadata": {},
   "source": [
    "<table xmlns:str=\"http://exslt.org/strings\">\n",
    "<caption></caption>\n",
    "<tbody>\n",
    "<tr>\n",
    "<th> </th>\n",
    "<th>Country</th>\n",
    "<th>Population (1000s)</th>\n",
    "<th>TB deaths</th>\n",
    "</tr>\n",
    "<tr>\n",
    "<td class=\"highlight_\" rowspan=\"\" colspan=\"\">189</td>\n",
    "<td class=\"highlight_\" rowspan=\"\" colspan=\"\">Venezuela (Bolivarian Republic of)</td>\n",
    "<td class=\"highlight_\" rowspan=\"\" colspan=\"\">30405</td>\n",
    "<td class=\"highlight_\" rowspan=\"\" colspan=\"\">480</td>\n",
    "</tr>\n",
    "<tr>\n",
    "<td class=\"highlight_\" rowspan=\"\" colspan=\"\">190</td>\n",
    "<td class=\"highlight_\" rowspan=\"\" colspan=\"\">Viet Nam</td>\n",
    "<td class=\"highlight_\" rowspan=\"\" colspan=\"\">91680</td>\n",
    "<td class=\"highlight_\" rowspan=\"\" colspan=\"\">17000</td>\n",
    "</tr>\n",
    "<tr>\n",
    "<td class=\"highlight_\" rowspan=\"\" colspan=\"\">191</td>\n",
    "<td class=\"highlight_\" rowspan=\"\" colspan=\"\">Yemen</td>\n",
    "<td class=\"highlight_\" rowspan=\"\" colspan=\"\">24407</td>\n",
    "<td class=\"highlight_\" rowspan=\"\" colspan=\"\">990</td>\n",
    "</tr>\n",
    "<tr>\n",
    "<td class=\"highlight_\" rowspan=\"\" colspan=\"\">192</td>\n",
    "<td class=\"highlight_\" rowspan=\"\" colspan=\"\">Zambia</td>\n",
    "<td class=\"highlight_\" rowspan=\"\" colspan=\"\">14539</td>\n",
    "<td class=\"highlight_\" rowspan=\"\" colspan=\"\">3600</td>\n",
    "</tr>\n",
    "<tr>\n",
    "<td class=\"highlight_\" rowspan=\"\" colspan=\"\">193</td>\n",
    "<td class=\"highlight_\" rowspan=\"\" colspan=\"\">Zimbabwe</td>\n",
    "<td class=\"highlight_\" rowspan=\"\" colspan=\"\">14150</td>\n",
    "<td class=\"highlight_\" rowspan=\"\" colspan=\"\">5700</td>\n",
    "</tr>\n",
    "</tbody>\n",
    "</table>\n",
    "---"
   ]
  },
  {
   "cell_type": "markdown",
   "metadata": {},
   "source": [
    "## 1.4 Getting and displaying dataframe columns"
   ]
  },
  {
   "cell_type": "markdown",
   "metadata": {},
   "source": [
    "You learned in Week 2 that you can get and display a single column of a dataframe by putting the name of the column (in quotes) within square brackets immediately after the dataframe’s name.\n",
    "\n",
    "For example, like this:\n",
    "\n"
   ]
  },
  {
   "cell_type": "code",
   "execution_count": null,
   "metadata": {
    "lines_to_next_cell": 0
   },
   "outputs": [],
   "source": [
    "__In []:__"
   ]
  },
  {
   "cell_type": "markdown",
   "metadata": {},
   "source": [
    "\n",
    "\n",
    "\n"
   ]
  },
  {
   "cell_type": "code",
   "execution_count": null,
   "metadata": {
    "lines_to_next_cell": 0
   },
   "outputs": [],
   "source": [
    "df['TB deaths']"
   ]
  },
  {
   "cell_type": "markdown",
   "metadata": {},
   "source": []
  },
  {
   "cell_type": "markdown",
   "metadata": {},
   "source": [
    "You then get output like this:\n",
    "\n"
   ]
  },
  {
   "cell_type": "code",
   "execution_count": null,
   "metadata": {
    "lines_to_next_cell": 0
   },
   "outputs": [],
   "source": [
    "__Out[]:__"
   ]
  },
  {
   "cell_type": "markdown",
   "metadata": {},
   "source": [
    "\n",
    "\n"
   ]
  },
  {
   "cell_type": "code",
   "execution_count": null,
   "metadata": {
    "lines_to_next_cell": 2
   },
   "outputs": [],
   "source": [
    "\n",
    "0    13000.00\n",
    "1       20.00\n",
    "2     5100.00\n",
    "3        0.26\n",
    "4     6900.00\n",
    "5        1.20\n",
    "6      570.00\n",
    "..."
   ]
  },
  {
   "cell_type": "markdown",
   "metadata": {},
   "source": [
    "Notice that although there is an index, there is no column heading. This is because what is returned is not a new dataframe with a single column but an example of the "
   ]
  },
  {
   "cell_type": "code",
   "execution_count": null,
   "metadata": {},
   "outputs": [],
   "source": [
    "__Series__"
   ]
  },
  {
   "cell_type": "markdown",
   "metadata": {},
   "source": [
    " data type."
   ]
  },
  {
   "cell_type": "markdown",
   "metadata": {},
   "source": [
    "![](https://www.open.edu/openlearn/ocw/pluginfile.php/1393338/mod_oucontent/oucontent/71687/ou_futurelearn_learn_to_code_fig_1042.jpg)\n",
    "__Figure 5__\n",
    "\n",
    "An perspective image of the isle between many data storage towers. The floor and the storage units are lit up.\n",
    "---"
   ]
  },
  {
   "cell_type": "markdown",
   "metadata": {},
   "source": [
    "### Each column in a dataframe is an example of a series\n",
    "\n",
    "The "
   ]
  },
  {
   "cell_type": "code",
   "execution_count": null,
   "metadata": {},
   "outputs": [],
   "source": [
    "__Series__"
   ]
  },
  {
   "cell_type": "markdown",
   "metadata": {},
   "source": [
    " data type is a collection of values with an integer index that starts from zero. In addition, the "
   ]
  },
  {
   "cell_type": "code",
   "execution_count": null,
   "metadata": {},
   "outputs": [],
   "source": [
    "__Series__"
   ]
  },
  {
   "cell_type": "markdown",
   "metadata": {},
   "source": [
    " data type has many of the same methods and attributes as the "
   ]
  },
  {
   "cell_type": "code",
   "execution_count": null,
   "metadata": {},
   "outputs": [],
   "source": [
    "__DataFrame__"
   ]
  },
  {
   "cell_type": "markdown",
   "metadata": {},
   "source": [
    " data type, so you can still execute code like:\n",
    "\n"
   ]
  },
  {
   "cell_type": "code",
   "execution_count": null,
   "metadata": {
    "lines_to_next_cell": 0
   },
   "outputs": [],
   "source": [
    "__In []:__"
   ]
  },
  {
   "cell_type": "markdown",
   "metadata": {},
   "source": [
    "\n",
    "\n",
    "\n"
   ]
  },
  {
   "cell_type": "code",
   "execution_count": null,
   "metadata": {
    "lines_to_next_cell": 0
   },
   "outputs": [],
   "source": [
    "df['TB deaths'].head()"
   ]
  },
  {
   "cell_type": "markdown",
   "metadata": {},
   "source": [
    "\n",
    "\n",
    "\n"
   ]
  },
  {
   "cell_type": "code",
   "execution_count": null,
   "metadata": {
    "lines_to_next_cell": 0
   },
   "outputs": [],
   "source": [
    "__Out[]:__"
   ]
  },
  {
   "cell_type": "markdown",
   "metadata": {},
   "source": [
    "\n",
    "\n"
   ]
  },
  {
   "cell_type": "code",
   "execution_count": null,
   "metadata": {
    "lines_to_next_cell": 2
   },
   "outputs": [],
   "source": [
    "\n",
    "0    13000.00\n",
    "1       20.00\n",
    "2     5100.00\n",
    "3        0.26\n",
    "4     6900.00\n",
    "Name: TB deaths, dtype: float64"
   ]
  },
  {
   "cell_type": "markdown",
   "metadata": {},
   "source": [
    "And\n",
    "\n"
   ]
  },
  {
   "cell_type": "code",
   "execution_count": null,
   "metadata": {
    "lines_to_next_cell": 0
   },
   "outputs": [],
   "source": [
    "__In []:__"
   ]
  },
  {
   "cell_type": "markdown",
   "metadata": {},
   "source": [
    "\n",
    "\n",
    "\n"
   ]
  },
  {
   "cell_type": "code",
   "execution_count": null,
   "metadata": {
    "lines_to_next_cell": 0
   },
   "outputs": [],
   "source": [
    "df['TB deaths'].iloc[2]"
   ]
  },
  {
   "cell_type": "markdown",
   "metadata": {},
   "source": [
    "\n",
    "\n",
    "\n"
   ]
  },
  {
   "cell_type": "code",
   "execution_count": null,
   "metadata": {
    "lines_to_next_cell": 0
   },
   "outputs": [],
   "source": [
    "__Out[]:__"
   ]
  },
  {
   "cell_type": "markdown",
   "metadata": {},
   "source": [
    "\n",
    "\n",
    "\n"
   ]
  },
  {
   "cell_type": "code",
   "execution_count": null,
   "metadata": {
    "lines_to_next_cell": 0
   },
   "outputs": [],
   "source": [
    "5100.00"
   ]
  },
  {
   "cell_type": "markdown",
   "metadata": {},
   "source": []
  },
  {
   "cell_type": "markdown",
   "metadata": {},
   "source": [
    "However, pandas does provide a mechanism for you to get and display one or more selected columns as a new dataframe in its own right. To do this you need to use a __list__. A list in Python consists of one or more items separated by commas and enclosed within square brackets, for example "
   ]
  },
  {
   "cell_type": "code",
   "execution_count": null,
   "metadata": {},
   "outputs": [],
   "source": [
    "__['Country']__"
   ]
  },
  {
   "cell_type": "markdown",
   "metadata": {},
   "source": [
    " or"
   ]
  },
  {
   "cell_type": "code",
   "execution_count": null,
   "metadata": {},
   "outputs": [],
   "source": [
    "__ ['Country', 'Population (1000s)']__"
   ]
  },
  {
   "cell_type": "markdown",
   "metadata": {},
   "source": [
    ". This list is then put within outer square brackets immediately after the dataframe’s name, like this:\n",
    "\n"
   ]
  },
  {
   "cell_type": "code",
   "execution_count": null,
   "metadata": {
    "lines_to_next_cell": 0
   },
   "outputs": [],
   "source": [
    "__In []:__"
   ]
  },
  {
   "cell_type": "markdown",
   "metadata": {},
   "source": [
    "\n",
    "\n",
    "\n"
   ]
  },
  {
   "cell_type": "code",
   "execution_count": null,
   "metadata": {
    "lines_to_next_cell": 0
   },
   "outputs": [],
   "source": [
    "df[['Country']].head()"
   ]
  },
  {
   "cell_type": "markdown",
   "metadata": {},
   "source": [
    "\n",
    "\n",
    "\n"
   ]
  },
  {
   "cell_type": "code",
   "execution_count": null,
   "metadata": {
    "lines_to_next_cell": 2
   },
   "outputs": [],
   "source": [
    "__Out[]:__"
   ]
  },
  {
   "cell_type": "markdown",
   "metadata": {},
   "source": [
    "<table xmlns:str=\"http://exslt.org/strings\">\n",
    "<caption></caption>\n",
    "<tbody>\n",
    "<tr>\n",
    "<th> </th>\n",
    "<th>__Country__</th>\n",
    "</tr>\n",
    "<tr>\n",
    "<td class=\"highlight_\" rowspan=\"\" colspan=\"\">0</td>\n",
    "<td class=\"highlight_\" rowspan=\"\" colspan=\"\">Afghanistan</td>\n",
    "</tr>\n",
    "<tr>\n",
    "<td class=\"highlight_\" rowspan=\"\" colspan=\"\">1</td>\n",
    "<td class=\"highlight_\" rowspan=\"\" colspan=\"\">Albania</td>\n",
    "</tr>\n",
    "<tr>\n",
    "<td class=\"highlight_\" rowspan=\"\" colspan=\"\">2</td>\n",
    "<td class=\"highlight_\" rowspan=\"\" colspan=\"\">Algeria</td>\n",
    "</tr>\n",
    "<tr>\n",
    "<td class=\"highlight_\" rowspan=\"\" colspan=\"\">3</td>\n",
    "<td class=\"highlight_\" rowspan=\"\" colspan=\"\">Andorra</td>\n",
    "</tr>\n",
    "<tr>\n",
    "<td class=\"highlight_\" rowspan=\"\" colspan=\"\">4</td>\n",
    "<td class=\"highlight_\" rowspan=\"\" colspan=\"\">Angola</td>\n",
    "</tr>\n",
    "</tbody>\n",
    "</table>\n",
    "Note that the column is now named. The expression"
   ]
  },
  {
   "cell_type": "code",
   "execution_count": null,
   "metadata": {},
   "outputs": [],
   "source": [
    "__ df[['Country']]__"
   ]
  },
  {
   "cell_type": "markdown",
   "metadata": {},
   "source": [
    "(with two square brackets) evaluates to a new dataframe (which happens to have a single column) rather than a series.\n",
    "\n",
    "To get a new dataframe with multiple columns you just need to put more column names in the list, like this:\n",
    "\n"
   ]
  },
  {
   "cell_type": "code",
   "execution_count": null,
   "metadata": {
    "lines_to_next_cell": 0
   },
   "outputs": [],
   "source": [
    "__In []:__"
   ]
  },
  {
   "cell_type": "markdown",
   "metadata": {},
   "source": [
    "\n",
    "\n",
    "\n"
   ]
  },
  {
   "cell_type": "code",
   "execution_count": null,
   "metadata": {
    "lines_to_next_cell": 0
   },
   "outputs": [],
   "source": [
    "df[['Country', 'Population (1000s)']].head()"
   ]
  },
  {
   "cell_type": "markdown",
   "metadata": {},
   "source": [
    "\n",
    "\n",
    "\n"
   ]
  },
  {
   "cell_type": "code",
   "execution_count": null,
   "metadata": {
    "lines_to_next_cell": 2
   },
   "outputs": [],
   "source": [
    "__Out[]:__"
   ]
  },
  {
   "cell_type": "markdown",
   "metadata": {},
   "source": [
    "<table xmlns:str=\"http://exslt.org/strings\">\n",
    "<caption></caption>\n",
    "<tbody>\n",
    "<tr>\n",
    "<th> </th>\n",
    "<th>__Country__</th>\n",
    "<th>__Population (1000s)__</th>\n",
    "</tr>\n",
    "<tr>\n",
    "<td class=\"highlight_\" rowspan=\"\" colspan=\"\">0</td>\n",
    "<td class=\"highlight_\" rowspan=\"\" colspan=\"\">Afghanistan</td>\n",
    "<td class=\"highlight_\" rowspan=\"\" colspan=\"\">30552</td>\n",
    "</tr>\n",
    "<tr>\n",
    "<td class=\"highlight_\" rowspan=\"\" colspan=\"\">1</td>\n",
    "<td class=\"highlight_\" rowspan=\"\" colspan=\"\">Albania</td>\n",
    "<td class=\"highlight_\" rowspan=\"\" colspan=\"\">3173</td>\n",
    "</tr>\n",
    "<tr>\n",
    "<td class=\"highlight_\" rowspan=\"\" colspan=\"\">2</td>\n",
    "<td class=\"highlight_\" rowspan=\"\" colspan=\"\">Algeria</td>\n",
    "<td class=\"highlight_\" rowspan=\"\" colspan=\"\">39208</td>\n",
    "</tr>\n",
    "<tr>\n",
    "<td class=\"highlight_\" rowspan=\"\" colspan=\"\">3</td>\n",
    "<td class=\"highlight_\" rowspan=\"\" colspan=\"\">Andorra</td>\n",
    "<td class=\"highlight_\" rowspan=\"\" colspan=\"\">79</td>\n",
    "</tr>\n",
    "<tr>\n",
    "<td class=\"highlight_\" rowspan=\"\" colspan=\"\">4</td>\n",
    "<td class=\"highlight_\" rowspan=\"\" colspan=\"\">Angola</td>\n",
    "<td class=\"highlight_\" rowspan=\"\" colspan=\"\">21472</td>\n",
    "</tr>\n",
    "</tbody>\n",
    "</table>\n",
    "The code has returned a new dataframe with just the "
   ]
  },
  {
   "cell_type": "code",
   "execution_count": null,
   "metadata": {},
   "outputs": [],
   "source": [
    "__'Country'__"
   ]
  },
  {
   "cell_type": "markdown",
   "metadata": {},
   "source": [
    " and "
   ]
  },
  {
   "cell_type": "code",
   "execution_count": null,
   "metadata": {},
   "outputs": [],
   "source": [
    "__'Population (1000s)’__"
   ]
  },
  {
   "cell_type": "markdown",
   "metadata": {},
   "source": [
    " columns."
   ]
  },
  {
   "cell_type": "markdown",
   "metadata": {},
   "source": [
    "### Exercise 1 Dataframes and CSV files"
   ]
  },
  {
   "cell_type": "markdown",
   "metadata": {},
   "source": [
    "#### Question\n",
    "\n",
    "Now that you’ve learned about CSV files and more about pandas you are ready to complete Exercise 1 in the exercise notebook 2.\n",
    "\n",
    "Open the exercise 2 notebook and the data file you used last week WHO POP TB all.csv and save it in the folder you created in Week 1.\n",
    "\n",
    "If you’re using Anaconda instead of CoCalc, remember that to open the notebook you’ll need to navigate to the notebook using Jupyter. Once it’s open, run the existing code in the notebook before you start the exercise. When you’ve completed the exercise, save the notebook. If you need a quick reminder of how to use Jupyter watch again the video in Week 1 Exercise 1.\n"
   ]
  },
  {
   "cell_type": "markdown",
   "metadata": {},
   "source": [
    "---"
   ]
  },
  {
   "cell_type": "markdown",
   "metadata": {},
   "source": [
    "## 1.5 Comparison operators"
   ]
  },
  {
   "cell_type": "markdown",
   "metadata": {},
   "source": [
    "In Expressions, you learned that Python has arithmetic operators: +, /, - and * and that expressions such as 5 + 2 evaluate to a value (in this case the number 7)."
   ]
  },
  {
   "cell_type": "markdown",
   "metadata": {},
   "source": [
    "![](https://www.open.edu/openlearn/ocw/pluginfile.php/1393338/mod_oucontent/oucontent/71687/ou_futurelearn_learn_to_code_fig_1043.jpg)\n",
    "__Figure 6__\n",
    "\n",
    "An illustration of two girls holding up signs. One sign says, 'YES', the other says, 'NO'.\n",
    "Python also has what are called comparison operators, these are:\n"
   ]
  },
  {
   "cell_type": "code",
   "execution_count": null,
   "metadata": {
    "lines_to_next_cell": 2
   },
   "outputs": [],
   "source": [
    "\n",
    "==    equals\n",
    "!=    not equal\n",
    "<     less than\n",
    ">     greater than\n",
    "<=    less than or equal to \n",
    ">=    greater than or equal to"
   ]
  },
  {
   "cell_type": "markdown",
   "metadata": {},
   "source": [
    "Expressions involving these operators always evaluate to a Boolean value, that is "
   ]
  },
  {
   "cell_type": "code",
   "execution_count": null,
   "metadata": {},
   "outputs": [],
   "source": [
    "__True__"
   ]
  },
  {
   "cell_type": "markdown",
   "metadata": {},
   "source": [
    " or "
   ]
  },
  {
   "cell_type": "code",
   "execution_count": null,
   "metadata": {},
   "outputs": [],
   "source": [
    "__False__"
   ]
  },
  {
   "cell_type": "markdown",
   "metadata": {},
   "source": [
    ". Here are some examples:\n"
   ]
  },
  {
   "cell_type": "code",
   "execution_count": null,
   "metadata": {
    "lines_to_next_cell": 2
   },
   "outputs": [],
   "source": [
    "\n",
    "2 = = 2      evaluates to True\n",
    "2 + 2 = = 5  evaluates to False\n",
    "2 != 1 + 1   evaluates to False\n",
    "45 < 50      evaluates to True\n",
    "20 > 30      evaluates to False\n",
    "100 <= 100   evaluates to True\n",
    "101 >= 100   evaluates to True"
   ]
  },
  {
   "cell_type": "markdown",
   "metadata": {},
   "source": [
    "The comparison operators can be used with other types of data, not just numbers. Used with strings they compare using alphabetical order. For example:\n",
    "\n"
   ]
  },
  {
   "cell_type": "code",
   "execution_count": null,
   "metadata": {
    "lines_to_next_cell": 0
   },
   "outputs": [],
   "source": [
    "'aardvark' &lt; 'zebra' evaluates to True"
   ]
  },
  {
   "cell_type": "markdown",
   "metadata": {},
   "source": []
  },
  {
   "cell_type": "markdown",
   "metadata": {},
   "source": [
    "In Calculating over columns you saw that when applied to whole columns, the arithmetic operators did the calculations row by row. Similarly, an expression like "
   ]
  },
  {
   "cell_type": "code",
   "execution_count": null,
   "metadata": {},
   "outputs": [],
   "source": [
    "__df['Country'] &gt;= 'K'__"
   ]
  },
  {
   "cell_type": "markdown",
   "metadata": {},
   "source": [
    " will compare the country names, row by row, against the string 'K' and record whether the result is "
   ]
  },
  {
   "cell_type": "code",
   "execution_count": null,
   "metadata": {},
   "outputs": [],
   "source": [
    "__True__"
   ]
  },
  {
   "cell_type": "markdown",
   "metadata": {},
   "source": [
    " or "
   ]
  },
  {
   "cell_type": "code",
   "execution_count": null,
   "metadata": {},
   "outputs": [],
   "source": [
    "__False__"
   ]
  },
  {
   "cell_type": "markdown",
   "metadata": {},
   "source": [
    " in a series like this:\n"
   ]
  },
  {
   "cell_type": "code",
   "execution_count": null,
   "metadata": {
    "lines_to_next_cell": 2
   },
   "outputs": [],
   "source": [
    "\n",
    "0    False\n",
    "1    False\n",
    "2    False\n",
    "3    False\n",
    "4    False\n",
    "5    False\n",
    "...\n",
    "Name: Country, dtype: bool "
   ]
  },
  {
   "cell_type": "markdown",
   "metadata": {},
   "source": [
    "If such an expression is put within square brackets immediately after a dataframe’s name, a new dataframe is obtained with only those rows where the result is "
   ]
  },
  {
   "cell_type": "code",
   "execution_count": null,
   "metadata": {},
   "outputs": [],
   "source": [
    "__True__"
   ]
  },
  {
   "cell_type": "markdown",
   "metadata": {},
   "source": [
    ". So:\n",
    "\n"
   ]
  },
  {
   "cell_type": "code",
   "execution_count": null,
   "metadata": {
    "lines_to_next_cell": 0
   },
   "outputs": [],
   "source": [
    "df[df['Country'] &gt;= 'K']"
   ]
  },
  {
   "cell_type": "markdown",
   "metadata": {},
   "source": []
  },
  {
   "cell_type": "markdown",
   "metadata": {},
   "source": [
    "returns a new dataframe with all the columns of "
   ]
  },
  {
   "cell_type": "code",
   "execution_count": null,
   "metadata": {},
   "outputs": [],
   "source": [
    "__df __"
   ]
  },
  {
   "cell_type": "markdown",
   "metadata": {},
   "source": [
    "but with only the rows corresponding to countries starting with K or a letter later in the alphabet.\n",
    "\n",
    "As another example, to see the data for countries with over 80 million inhabitants, the following code will return and display a new dataframe with all the columns of "
   ]
  },
  {
   "cell_type": "code",
   "execution_count": null,
   "metadata": {},
   "outputs": [],
   "source": [
    "__df__"
   ]
  },
  {
   "cell_type": "markdown",
   "metadata": {},
   "source": [
    " but with only the rows where it is "
   ]
  },
  {
   "cell_type": "code",
   "execution_count": null,
   "metadata": {},
   "outputs": [],
   "source": [
    "__True__"
   ]
  },
  {
   "cell_type": "markdown",
   "metadata": {},
   "source": [
    " that the value in the "
   ]
  },
  {
   "cell_type": "code",
   "execution_count": null,
   "metadata": {},
   "outputs": [],
   "source": [
    "__'Population (1000s)'__"
   ]
  },
  {
   "cell_type": "markdown",
   "metadata": {},
   "source": [
    " column is greater than "
   ]
  },
  {
   "cell_type": "code",
   "execution_count": null,
   "metadata": {
    "lines_to_next_cell": 0
   },
   "outputs": [],
   "source": [
    "__80000:__"
   ]
  },
  {
   "cell_type": "markdown",
   "metadata": {},
   "source": [
    "\n",
    "\n",
    "\n"
   ]
  },
  {
   "cell_type": "code",
   "execution_count": null,
   "metadata": {
    "lines_to_next_cell": 0
   },
   "outputs": [],
   "source": [
    "__In []:__"
   ]
  },
  {
   "cell_type": "markdown",
   "metadata": {},
   "source": [
    "\n",
    "\n",
    "\n"
   ]
  },
  {
   "cell_type": "code",
   "execution_count": null,
   "metadata": {
    "lines_to_next_cell": 0
   },
   "outputs": [],
   "source": [
    "df[df['Population (1000s)'] &gt; 80000]"
   ]
  },
  {
   "cell_type": "markdown",
   "metadata": {},
   "source": [
    "\n",
    "\n",
    "\n"
   ]
  },
  {
   "cell_type": "code",
   "execution_count": null,
   "metadata": {
    "lines_to_next_cell": 2
   },
   "outputs": [],
   "source": [
    "__Out[]:__"
   ]
  },
  {
   "cell_type": "markdown",
   "metadata": {},
   "source": [
    "<table xmlns:str=\"http://exslt.org/strings\">\n",
    "<caption></caption>\n",
    "<tbody>\n",
    "<tr>\n",
    "<th> </th>\n",
    "<th>Country</th>\n",
    "<th>Population (1000s)</th>\n",
    "<th>TB deaths</th>\n",
    "</tr>\n",
    "<tr>\n",
    "<td class=\"highlight_\" rowspan=\"\" colspan=\"\">13</td>\n",
    "<td class=\"highlight_\" rowspan=\"\" colspan=\"\">Bangladesh</td>\n",
    "<td class=\"highlight_\" rowspan=\"\" colspan=\"\">156595</td>\n",
    "<td class=\"highlight_\" rowspan=\"\" colspan=\"\">80000</td>\n",
    "</tr>\n",
    "<tr>\n",
    "<td class=\"highlight_\" rowspan=\"\" colspan=\"\">23</td>\n",
    "<td class=\"highlight_\" rowspan=\"\" colspan=\"\">Brazil</td>\n",
    "<td class=\"highlight_\" rowspan=\"\" colspan=\"\">200362</td>\n",
    "<td class=\"highlight_\" rowspan=\"\" colspan=\"\">4400</td>\n",
    "</tr>\n",
    "<tr>\n",
    "<td class=\"highlight_\" rowspan=\"\" colspan=\"\">36</td>\n",
    "<td class=\"highlight_\" rowspan=\"\" colspan=\"\">China</td>\n",
    "<td class=\"highlight_\" rowspan=\"\" colspan=\"\">1393337</td>\n",
    "<td class=\"highlight_\" rowspan=\"\" colspan=\"\">41000</td>\n",
    "</tr>\n",
    "<tr>\n",
    "<td class=\"highlight_\" rowspan=\"\" colspan=\"\">53</td>\n",
    "<td class=\"highlight_\" rowspan=\"\" colspan=\"\">Egypt</td>\n",
    "<td class=\"highlight_\" rowspan=\"\" colspan=\"\">82056</td>\n",
    "<td class=\"highlight_\" rowspan=\"\" colspan=\"\">550</td>\n",
    "</tr>\n",
    "<tr>\n",
    "<td class=\"highlight_\" rowspan=\"\" colspan=\"\">58</td>\n",
    "<td class=\"highlight_\" rowspan=\"\" colspan=\"\">Ethiopia</td>\n",
    "<td class=\"highlight_\" rowspan=\"\" colspan=\"\">94101</td>\n",
    "<td class=\"highlight_\" rowspan=\"\" colspan=\"\">30000</td>\n",
    "</tr>\n",
    "<tr>\n",
    "<td class=\"highlight_\" rowspan=\"\" colspan=\"\">65</td>\n",
    "<td class=\"highlight_\" rowspan=\"\" colspan=\"\">Germany</td>\n",
    "<td class=\"highlight_\" rowspan=\"\" colspan=\"\">82727</td>\n",
    "<td class=\"highlight_\" rowspan=\"\" colspan=\"\">300</td>\n",
    "</tr>\n",
    "<tr>\n",
    "<td class=\"highlight_\" rowspan=\"\" colspan=\"\">77</td>\n",
    "<td class=\"highlight_\" rowspan=\"\" colspan=\"\">India</td>\n",
    "<td class=\"highlight_\" rowspan=\"\" colspan=\"\">1252140</td>\n",
    "<td class=\"highlight_\" rowspan=\"\" colspan=\"\">240000</td>\n",
    "</tr>\n",
    "<tr>\n",
    "<td class=\"highlight_\" rowspan=\"\" colspan=\"\">78</td>\n",
    "<td class=\"highlight_\" rowspan=\"\" colspan=\"\">Indonesia</td>\n",
    "<td class=\"highlight_\" rowspan=\"\" colspan=\"\">249866</td>\n",
    "<td class=\"highlight_\" rowspan=\"\" colspan=\"\">64000</td>\n",
    "</tr>\n",
    "<tr>\n",
    "<td class=\"highlight_\" rowspan=\"\" colspan=\"\">85</td>\n",
    "<td class=\"highlight_\" rowspan=\"\" colspan=\"\">Japan</td>\n",
    "<td class=\"highlight_\" rowspan=\"\" colspan=\"\">127144</td>\n",
    "<td class=\"highlight_\" rowspan=\"\" colspan=\"\">2100</td>\n",
    "</tr>\n",
    "<tr>\n",
    "<td class=\"highlight_\" rowspan=\"\" colspan=\"\">109</td>\n",
    "<td class=\"highlight_\" rowspan=\"\" colspan=\"\">Mexico</td>\n",
    "<td class=\"highlight_\" rowspan=\"\" colspan=\"\">122332</td>\n",
    "<td class=\"highlight_\" rowspan=\"\" colspan=\"\">2200</td>\n",
    "</tr>\n",
    "<tr>\n",
    "<td class=\"highlight_\" rowspan=\"\" colspan=\"\">124</td>\n",
    "<td class=\"highlight_\" rowspan=\"\" colspan=\"\">Nigeria</td>\n",
    "<td class=\"highlight_\" rowspan=\"\" colspan=\"\">173615</td>\n",
    "<td class=\"highlight_\" rowspan=\"\" colspan=\"\">160000</td>\n",
    "</tr>\n",
    "<tr>\n",
    "<td class=\"highlight_\" rowspan=\"\" colspan=\"\">128</td>\n",
    "<td class=\"highlight_\" rowspan=\"\" colspan=\"\">Pakistan</td>\n",
    "<td class=\"highlight_\" rowspan=\"\" colspan=\"\">182143</td>\n",
    "<td class=\"highlight_\" rowspan=\"\" colspan=\"\">49000</td>\n",
    "</tr>\n",
    "<tr>\n",
    "<td class=\"highlight_\" rowspan=\"\" colspan=\"\">134</td>\n",
    "<td class=\"highlight_\" rowspan=\"\" colspan=\"\">Philippines</td>\n",
    "<td class=\"highlight_\" rowspan=\"\" colspan=\"\">98394</td>\n",
    "<td class=\"highlight_\" rowspan=\"\" colspan=\"\">27000</td>\n",
    "</tr>\n",
    "<tr>\n",
    "<td class=\"highlight_\" rowspan=\"\" colspan=\"\">141</td>\n",
    "<td class=\"highlight_\" rowspan=\"\" colspan=\"\">Russian Federation</td>\n",
    "<td class=\"highlight_\" rowspan=\"\" colspan=\"\">142834</td>\n",
    "<td class=\"highlight_\" rowspan=\"\" colspan=\"\">17000</td>\n",
    "</tr>\n",
    "<tr>\n",
    "<td class=\"highlight_\" rowspan=\"\" colspan=\"\">185</td>\n",
    "<td class=\"highlight_\" rowspan=\"\" colspan=\"\">United States of America</td>\n",
    "<td class=\"highlight_\" rowspan=\"\" colspan=\"\">320051</td>\n",
    "<td class=\"highlight_\" rowspan=\"\" colspan=\"\">490</td>\n",
    "</tr>\n",
    "<tr>\n",
    "<td class=\"highlight_\" rowspan=\"\" colspan=\"\">190</td>\n",
    "<td class=\"highlight_\" rowspan=\"\" colspan=\"\">Viet Nam</td>\n",
    "<td class=\"highlight_\" rowspan=\"\" colspan=\"\">91680</td>\n",
    "<td class=\"highlight_\" rowspan=\"\" colspan=\"\">17000</td>\n",
    "</tr>\n",
    "</tbody>\n",
    "</table>\n",
    "\n",
    "### Exercise 2 Comparison operators"
   ]
  },
  {
   "cell_type": "markdown",
   "metadata": {},
   "source": [
    "#### Question\n",
    "\n",
    "You are ready to complete Exercise 2 in the Exercise notebook 2.\n",
    "\n",
    "Remember to run the existing code in the notebook before you start the exercise. When you’ve completed the exercise, save the notebook. \n",
    "\n"
   ]
  },
  {
   "cell_type": "markdown",
   "metadata": {},
   "source": [
    "## 1.6 Bitwise operators"
   ]
  },
  {
   "cell_type": "markdown",
   "metadata": {},
   "source": [
    "To build more complicated expressions involving column comparisons, there are two bitwise operators."
   ]
  },
  {
   "cell_type": "markdown",
   "metadata": {},
   "source": [
    "![](https://www.open.edu/openlearn/ocw/pluginfile.php/1393338/mod_oucontent/oucontent/71687/ou_futurelearn_learn_to_code_fig_1044.jpg)\n",
    "__Figure 7__\n",
    "\n",
    "An image of someone constructing a building from wooden blocks\n",
    "The "
   ]
  },
  {
   "cell_type": "code",
   "execution_count": null,
   "metadata": {},
   "outputs": [],
   "source": [
    "__&amp;__"
   ]
  },
  {
   "cell_type": "markdown",
   "metadata": {},
   "source": [
    " operator means ‘and’ and the | operator (vertical bar, not uppercase letter ‘i’) means ‘or’. So, for example the expression:\n"
   ]
  },
  {
   "cell_type": "code",
   "execution_count": null,
   "metadata": {
    "lines_to_next_cell": 2
   },
   "outputs": [],
   "source": [
    "\n",
    "(df['Country'] >= 'Latvia') & (df['Country'] <= 'Sweden')"
   ]
  },
  {
   "cell_type": "markdown",
   "metadata": {},
   "source": [
    "will evaluate to a series containing Boolean values where the values are"
   ]
  },
  {
   "cell_type": "code",
   "execution_count": null,
   "metadata": {},
   "outputs": [],
   "source": [
    "__True__"
   ]
  },
  {
   "cell_type": "markdown",
   "metadata": {},
   "source": [
    " only if the equivalent rows in the dataframe contain the countries ‘"
   ]
  },
  {
   "cell_type": "code",
   "execution_count": null,
   "metadata": {},
   "outputs": [],
   "source": [
    "__Latvia__"
   ]
  },
  {
   "cell_type": "markdown",
   "metadata": {},
   "source": [
    "’ to ‘"
   ]
  },
  {
   "cell_type": "code",
   "execution_count": null,
   "metadata": {},
   "outputs": [],
   "source": [
    "__Sweden__"
   ]
  },
  {
   "cell_type": "markdown",
   "metadata": {},
   "source": [
    "’, inclusive. However, the following expression which uses | (or) rather than &amp; (and):\n",
    "\n"
   ]
  },
  {
   "cell_type": "code",
   "execution_count": null,
   "metadata": {
    "lines_to_next_cell": 0
   },
   "outputs": [],
   "source": [
    "(df['Country'] &gt;= 'Latvia') | (df['Country'] &lt;= 'Sweden')"
   ]
  },
  {
   "cell_type": "markdown",
   "metadata": {},
   "source": []
  },
  {
   "cell_type": "markdown",
   "metadata": {},
   "source": [
    "will evaluate to "
   ]
  },
  {
   "cell_type": "code",
   "execution_count": null,
   "metadata": {},
   "outputs": [],
   "source": [
    "__True__"
   ]
  },
  {
   "cell_type": "markdown",
   "metadata": {},
   "source": [
    " for all countries, because every country comes alphabetically after ‘"
   ]
  },
  {
   "cell_type": "code",
   "execution_count": null,
   "metadata": {},
   "outputs": [],
   "source": [
    "__Latvia__"
   ]
  },
  {
   "cell_type": "markdown",
   "metadata": {},
   "source": [
    "’ (e.g. the ‘UK’) or before '"
   ]
  },
  {
   "cell_type": "code",
   "execution_count": null,
   "metadata": {},
   "outputs": [],
   "source": [
    "__Sweden__"
   ]
  },
  {
   "cell_type": "markdown",
   "metadata": {},
   "source": [
    "' (e.g. ‘"
   ]
  },
  {
   "cell_type": "code",
   "execution_count": null,
   "metadata": {},
   "outputs": [],
   "source": [
    "__Brazil__"
   ]
  },
  {
   "cell_type": "markdown",
   "metadata": {},
   "source": [
    "’).\n",
    "\n",
    "Note the round brackets around each comparison. Without them you will get an error.\n",
    "\n",
    "The whole expression with multiple comparisons has to be put within "
   ]
  },
  {
   "cell_type": "code",
   "execution_count": null,
   "metadata": {},
   "outputs": [],
   "source": [
    "__df[…]__"
   ]
  },
  {
   "cell_type": "markdown",
   "metadata": {},
   "source": [
    " to get a dataframe with only those rows that match the condition.\n",
    "\n",
    "As a further example, using different columns, it is relatively easy to find the rows in "
   ]
  },
  {
   "cell_type": "code",
   "execution_count": null,
   "metadata": {},
   "outputs": [],
   "source": [
    "__df__"
   ]
  },
  {
   "cell_type": "markdown",
   "metadata": {},
   "source": [
    " where '"
   ]
  },
  {
   "cell_type": "code",
   "execution_count": null,
   "metadata": {},
   "outputs": [],
   "source": [
    "__Population (1000s)__"
   ]
  },
  {
   "cell_type": "markdown",
   "metadata": {},
   "source": [
    "' is greater than "
   ]
  },
  {
   "cell_type": "code",
   "execution_count": null,
   "metadata": {},
   "outputs": [],
   "source": [
    "__80000__"
   ]
  },
  {
   "cell_type": "markdown",
   "metadata": {},
   "source": [
    " and where '"
   ]
  },
  {
   "cell_type": "code",
   "execution_count": null,
   "metadata": {},
   "outputs": [],
   "source": [
    "__TB deaths__"
   ]
  },
  {
   "cell_type": "markdown",
   "metadata": {},
   "source": [
    "' are greater than "
   ]
  },
  {
   "cell_type": "code",
   "execution_count": null,
   "metadata": {},
   "outputs": [],
   "source": [
    "10000"
   ]
  },
  {
   "cell_type": "markdown",
   "metadata": {},
   "source": [
    ".\n",
    "\n"
   ]
  },
  {
   "cell_type": "code",
   "execution_count": null,
   "metadata": {
    "lines_to_next_cell": 0
   },
   "outputs": [],
   "source": [
    "__In []:__"
   ]
  },
  {
   "cell_type": "markdown",
   "metadata": {},
   "source": [
    "\n",
    "\n",
    "\n"
   ]
  },
  {
   "cell_type": "code",
   "execution_count": null,
   "metadata": {
    "lines_to_next_cell": 0
   },
   "outputs": [],
   "source": [
    "df[(df['Population (1000s)'] &gt; 80000) &amp; (df['TB deaths'] &gt; 10000)]"
   ]
  },
  {
   "cell_type": "markdown",
   "metadata": {},
   "source": [
    "\n",
    "\n",
    "\n"
   ]
  },
  {
   "cell_type": "code",
   "execution_count": null,
   "metadata": {
    "lines_to_next_cell": 2
   },
   "outputs": [],
   "source": [
    "__Out []:__"
   ]
  },
  {
   "cell_type": "markdown",
   "metadata": {},
   "source": [
    "<table xmlns:str=\"http://exslt.org/strings\">\n",
    "<caption></caption>\n",
    "<tbody>\n",
    "<tr>\n",
    "<th> </th>\n",
    "<th>Country</th>\n",
    "<th>Population (1000s)</th>\n",
    "<th>TB deaths</th>\n",
    "</tr>\n",
    "<tr>\n",
    "<td class=\"highlight_\" rowspan=\"\" colspan=\"\">13</td>\n",
    "<td class=\"highlight_\" rowspan=\"\" colspan=\"\">Bangladesh</td>\n",
    "<td class=\"highlight_\" rowspan=\"\" colspan=\"\">156595</td>\n",
    "<td class=\"highlight_\" rowspan=\"\" colspan=\"\">80000</td>\n",
    "</tr>\n",
    "<tr>\n",
    "<td class=\"highlight_\" rowspan=\"\" colspan=\"\">36</td>\n",
    "<td class=\"highlight_\" rowspan=\"\" colspan=\"\">China</td>\n",
    "<td class=\"highlight_\" rowspan=\"\" colspan=\"\">1393337</td>\n",
    "<td class=\"highlight_\" rowspan=\"\" colspan=\"\">41000</td>\n",
    "</tr>\n",
    "<tr>\n",
    "<td class=\"highlight_\" rowspan=\"\" colspan=\"\">58</td>\n",
    "<td class=\"highlight_\" rowspan=\"\" colspan=\"\">Ethiopia</td>\n",
    "<td class=\"highlight_\" rowspan=\"\" colspan=\"\">94101</td>\n",
    "<td class=\"highlight_\" rowspan=\"\" colspan=\"\">30000</td>\n",
    "</tr>\n",
    "<tr>\n",
    "<td class=\"highlight_\" rowspan=\"\" colspan=\"\">77</td>\n",
    "<td class=\"highlight_\" rowspan=\"\" colspan=\"\">India</td>\n",
    "<td class=\"highlight_\" rowspan=\"\" colspan=\"\">1252140</td>\n",
    "<td class=\"highlight_\" rowspan=\"\" colspan=\"\">240000</td>\n",
    "</tr>\n",
    "<tr>\n",
    "<td class=\"highlight_\" rowspan=\"\" colspan=\"\">78</td>\n",
    "<td class=\"highlight_\" rowspan=\"\" colspan=\"\">Indonesia</td>\n",
    "<td class=\"highlight_\" rowspan=\"\" colspan=\"\">249866</td>\n",
    "<td class=\"highlight_\" rowspan=\"\" colspan=\"\">64000</td>\n",
    "</tr>\n",
    "<tr>\n",
    "<td class=\"highlight_\" rowspan=\"\" colspan=\"\">124</td>\n",
    "<td class=\"highlight_\" rowspan=\"\" colspan=\"\">Nigeria</td>\n",
    "<td class=\"highlight_\" rowspan=\"\" colspan=\"\">173615</td>\n",
    "<td class=\"highlight_\" rowspan=\"\" colspan=\"\">160000</td>\n",
    "</tr>\n",
    "<tr>\n",
    "<td class=\"highlight_\" rowspan=\"\" colspan=\"\">128</td>\n",
    "<td class=\"highlight_\" rowspan=\"\" colspan=\"\">Pakistan</td>\n",
    "<td class=\"highlight_\" rowspan=\"\" colspan=\"\">182143</td>\n",
    "<td class=\"highlight_\" rowspan=\"\" colspan=\"\">49000</td>\n",
    "</tr>\n",
    "<tr>\n",
    "<td class=\"highlight_\" rowspan=\"\" colspan=\"\">134</td>\n",
    "<td class=\"highlight_\" rowspan=\"\" colspan=\"\">Philippines</td>\n",
    "<td class=\"highlight_\" rowspan=\"\" colspan=\"\">98394</td>\n",
    "<td class=\"highlight_\" rowspan=\"\" colspan=\"\">27000</td>\n",
    "</tr>\n",
    "<tr>\n",
    "<td class=\"highlight_\" rowspan=\"\" colspan=\"\">141</td>\n",
    "<td class=\"highlight_\" rowspan=\"\" colspan=\"\">Russian Federation</td>\n",
    "<td class=\"highlight_\" rowspan=\"\" colspan=\"\">142834</td>\n",
    "<td class=\"highlight_\" rowspan=\"\" colspan=\"\">17000</td>\n",
    "</tr>\n",
    "<tr>\n",
    "<td class=\"highlight_\" rowspan=\"\" colspan=\"\">190</td>\n",
    "<td class=\"highlight_\" rowspan=\"\" colspan=\"\">Viet Nam</td>\n",
    "<td class=\"highlight_\" rowspan=\"\" colspan=\"\">91680</td>\n",
    "<td class=\"highlight_\" rowspan=\"\" colspan=\"\">17000</td>\n",
    "</tr>\n",
    "</tbody>\n",
    "</table>\n",
    "These expressions can get long and complicated, making it easy to miss a crucial round or square bracket. In those cases it is best to break up the expression into small steps. The previous example could also be written as:\n",
    "\n"
   ]
  },
  {
   "cell_type": "code",
   "execution_count": null,
   "metadata": {
    "lines_to_next_cell": 0
   },
   "outputs": [],
   "source": [
    "__In []:__"
   ]
  },
  {
   "cell_type": "markdown",
   "metadata": {},
   "source": [
    "\n",
    "\n"
   ]
  },
  {
   "cell_type": "code",
   "execution_count": null,
   "metadata": {
    "lines_to_next_cell": 0
   },
   "outputs": [],
   "source": [
    "\n",
    "population = df['Population (1000s)'] \n",
    "deaths = df['TB deaths']\n",
    "df[(population > 80000) & (deaths > 10000)]"
   ]
  },
  {
   "cell_type": "markdown",
   "metadata": {},
   "source": []
  },
  {
   "cell_type": "markdown",
   "metadata": {},
   "source": [
    "### Exercise 3 Bitwise operators"
   ]
  },
  {
   "cell_type": "markdown",
   "metadata": {},
   "source": [
    "#### Question\n",
    "\n",
    "Complete Exercise 3 in the Exercise notebook 2.\n",
    "\n",
    "\n"
   ]
  }
 ],
 "metadata": {
  "jupytext": {
   "cell_metadata_filter": "-all",
   "main_language": "python",
   "notebook_metadata_filter": "-all"
  },
  "kernelspec": {
   "display_name": "",
   "language": "",
   "name": ""
  }
 },
 "nbformat": 4,
 "nbformat_minor": 2
}
