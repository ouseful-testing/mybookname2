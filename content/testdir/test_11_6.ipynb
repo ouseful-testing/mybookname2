{
 "cells": [
  {
   "cell_type": "markdown",
   "metadata": {},
   "source": [
    "# 4 Summary\n"
   ]
  },
  {
   "cell_type": "markdown",
   "metadata": {},
   "source": [
    "![](https://www.open.edu/openlearn/ocw/pluginfile.php/1393338/mod_oucontent/oucontent/71687/ou_futurelearn_learn_to_code_fig_1052.jpg)\n",
    "__Figure 16__\n",
    "\n",
    "An image of storm clouds and a double rainbow above a field with a dirt road \n",
    "This week you have learned how to: \n",
    "* load a dataset into a dataframe from a CSV fileload a dataset into a dataframe from a CSV file\n",
    "* clean dataclean data\n",
    "* use the data to get answers to your questions.use the data to get answers to your questions.\n",
    "\n",
    "Next week you will learn about the techniques behind the creation of a combined dataset. \n",
    "\n",
    "You are now halfway through the course. The Open University would really appreciate your feedback and suggestions for future improvement in our optional [end-of-course survey](https://www.surveymonkey.co.uk/r/BOCENDlearntocode), which you will also have an opportunity to complete at the end of Week 8. Participation will be completely confidential and we will not pass on your details to others.\n"
   ]
  }
 ],
 "metadata": {
  "jupytext": {
   "cell_metadata_filter": "-all",
   "main_language": "python",
   "notebook_metadata_filter": "-all"
  },
  "kernelspec": {
   "display_name": "",
   "language": "",
   "name": ""
  }
 },
 "nbformat": 4,
 "nbformat_minor": 2
}
