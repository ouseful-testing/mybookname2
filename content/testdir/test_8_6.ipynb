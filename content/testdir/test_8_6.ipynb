{
 "cells": [
  {
   "cell_type": "markdown",
   "metadata": {},
   "source": [
    "# 3 Summary"
   ]
  },
  {
   "cell_type": "markdown",
   "metadata": {},
   "source": [
    "The first week of this course covered:\n",
    "* installing software in course notebooksinstalling software in course notebooks\n",
    "* starting data analysis with a questionstarting data analysis with a question \n",
    "* the basics of codingthe basics of coding\n",
    "* naming formatsnaming formats\n",
    "* recording units of measurement.recording units of measurement.\n",
    "\n",
    "Next week, you’ll be introduced to pandas. You'll use Jupyter notebooks to write and execute simple programs with Python and the pandas module. \n"
   ]
  }
 ],
 "metadata": {
  "jupytext": {
   "cell_metadata_filter": "-all",
   "main_language": "python",
   "notebook_metadata_filter": "-all"
  },
  "kernelspec": {
   "display_name": "",
   "language": "",
   "name": ""
  }
 },
 "nbformat": 4,
 "nbformat_minor": 2
}
