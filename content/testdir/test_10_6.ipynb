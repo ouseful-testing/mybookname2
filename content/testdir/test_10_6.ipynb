{
 "cells": [
  {
   "cell_type": "markdown",
   "metadata": {},
   "source": [
    "# 3 Summary"
   ]
  },
  {
   "cell_type": "markdown",
   "metadata": {},
   "source": [
    "This week looked at the importance of dataframes and the ‘dot’ notation, and the various dataframe methods. It also covered:\n",
    "* CSV filesCSV files\n",
    "* Comparison operatorsComparison operators\n",
    "* Bitwise operators.Bitwise operators.\n",
    "\n",
    "Next week looks at weather data and how to use the data to get answers to your questions.\n"
   ]
  }
 ],
 "metadata": {
  "jupytext": {
   "cell_metadata_filter": "-all",
   "main_language": "python",
   "notebook_metadata_filter": "-all"
  },
  "kernelspec": {
   "display_name": "",
   "language": "",
   "name": ""
  }
 },
 "nbformat": 4,
 "nbformat_minor": 2
}
